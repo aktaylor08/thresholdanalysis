{
 "metadata": {
  "name": "",
  "signature": "sha256:9eadfc4de9adb99d9d58e4a1bd2b217e44535c84b46079fc250eb44be667d6d2"
 },
 "nbformat": 3,
 "nbformat_minor": 0,
 "worksheets": [
  {
   "cells": [
    {
     "cell_type": "code",
     "collapsed": false,
     "input": [
      "import pandas as pd\n",
      "import matplotlib.pyplot as plt\n",
      "import numpy as np\n",
      "import sumerize_vals\n",
      "import experiment_examine\n",
      "import glob\n",
      "import csv\n",
      "%matplotlib inline"
     ],
     "language": "python",
     "metadata": {},
     "outputs": [
      {
       "output_type": "stream",
       "stream": "stdout",
       "text": [
        "No ros must import to the node instead of live\n",
        "NO rosbag pandas can only import csv bags"
       ]
      },
      {
       "output_type": "stream",
       "stream": "stdout",
       "text": [
        "\n"
       ]
      }
     ],
     "prompt_number": 1
    },
    {
     "cell_type": "code",
     "collapsed": false,
     "input": [
      "info_dir = '../test_data/water_sampler/static_info/'\n",
      "experiment = '../test_data/water_sampler/dynamic/all_info/experiment1_2015-04-30-15-52-51.csv'\n",
      "info = sumerize_vals.get_info(info_dir)\n",
      "thresh_df = sumerize_vals.get_df(experiment, info)\n",
      "df = pd.read_csv(experiment, parse_dates=True, index_col=0)\n",
      "action, no_actions = experiment_examine.get_marks(experiment)\n",
      "no_adv_score = pd.read_csv('../test_data/water_sampler/dynamic/all_info/no_advance/experiment1_2015-04-30-15-52-51_no_advance_scores.csv', parse_dates=True, index_col=0)\n",
      "adv_score = pd.read_csv('../test_data/water_sampler/dynamic/all_info/advance/experiment1_2015-04-30-15-52-51_advance_scores.csv', parse_dates=True, index_col=0)"
     ],
     "language": "python",
     "metadata": {},
     "outputs": [
      {
       "output_type": "stream",
       "stream": "stdout",
       "text": [
        "Loading file ../test_data/water_sampler/dynamic/all_info/experiment1_2015-04-30-15-52-51.csv\n"
       ]
      },
      {
       "output_type": "stream",
       "stream": "stderr",
       "text": [
        "/usr/local/lib/python2.7/site-packages/pandas/io/parsers.py:1164: DtypeWarning: Columns (5,6,150) have mixed types. Specify dtype option on import or set low_memory=False.\n",
        "  data = self._reader.read(nrows)\n"
       ]
      }
     ],
     "prompt_number": 2
    },
    {
     "cell_type": "code",
     "collapsed": false,
     "input": [
      "act = []\n",
      "for k,x in action.iteritems():\n",
      "    if isinstance(k,int):\n",
      "        for y in x:\n",
      "            act.append(y)\n",
      "noact = []\n",
      "for k,x in no_actions.iteritems():\n",
      "    if isinstance(k,int):\n",
      "        for y in x:\n",
      "            noact.append(y)"
     ],
     "language": "python",
     "metadata": {},
     "outputs": [],
     "prompt_number": 3
    },
    {
     "cell_type": "code",
     "collapsed": false,
     "input": [],
     "language": "python",
     "metadata": {},
     "outputs": [],
     "prompt_number": 187
    },
    {
     "cell_type": "code",
     "collapsed": false,
     "input": [],
     "language": "python",
     "metadata": {},
     "outputs": [],
     "prompt_number": 187
    },
    {
     "cell_type": "code",
     "collapsed": false,
     "input": [
      "for i in act:\n",
      "    idx = adv_score.index.asof(i)\n",
      "    res = adv_score.loc[idx, :]\n",
      "    res.sort()\n",
      "    print res"
     ],
     "language": "python",
     "metadata": {},
     "outputs": [
      {
       "output_type": "stream",
       "stream": "stdout",
       "text": [
        "/home/ataylor/water_sampler_experiment/src/h2o_sampling/h2o_safety/h2o_safety.py:119:0                         1.869897\n",
        "d4a8c703-b0b9-49d4-aae0-d531c47e2d8a                                                                           6.033057\n",
        "/home/ataylor/water_sampler_experiment/src/h2o_sampling/script_utils/FlyToObject.py:41:0                      12.987225\n",
        "e2b00838-92ed-413f-b83d-1bf9041c9ac7                                                                          15.516756\n",
        "/home/ataylor/water_sampler_experiment/src/h2o_sampling/h2o_safety/h2o_safety.py:106:0                        16.123403\n",
        "9cb7cb08-f649-43fb-a4b1-bfdc90b21aae                                                                          16.701815\n",
        "0c95250a-abf7-48bc-bff8-4b7193913af1                                                                          19.680046\n",
        "cda4139c-d4c9-465c-98fc-362b7be76b96                                                                        9999.900000\n",
        "c14f7034-f59c-4cfa-a75a-0daaa9d23fa9                                                                        9999.900000\n",
        "b852d108-8540-47bc-a120-b2c983c9ca91                                                                        9999.900000\n",
        "a0140b8a-fbef-43d8-ab07-74319a97bc73                                                                        9999.900000\n",
        "98045342-fc4e-4b12-904c-5e494c99903d                                                                        9999.900000\n",
        "92c529e0-e6e0-4184-98df-653497207a03                                                                        9999.900000\n",
        "7a1f8257-2d04-476f-baa5-aff1df459502                                                                        9999.900000\n",
        "5ab665dd-e8d8-4b63-a809-a482824a5cbe                                                                        9999.900000\n",
        "552d72ea-07f4-47bd-9f91-ac7031bf3618                                                                        9999.900000\n",
        "4a595395-30e4-4a1e-ba74-e16c604f7e49                                                                        9999.900000\n",
        "29e15808-dbdd-45be-81e8-3cabdc8854c6                                                                        9999.900000\n",
        "26d9dac7-4db1-4c40-9b23-d726e4e8ee90                                                                        9999.900000\n",
        "/home/ataylor/water_sampler_experiment/src/h2o_sampling/h2o_substate_machine/h2oSubstateMachine.py:157:0    9999.900000\n",
        "/home/ataylor/water_sampler_experiment/src/h2o_sampling/h2o_safety/h2o_safety.py:55:0                       9999.900000\n",
        "87f42589-e261-4133-a05d-89a706217982                                                                        9999.900000\n",
        "e37b2e60-f59e-46f4-9ade-37684865cd29                                                                        9999.900000\n",
        "Name: 2015-04-30 20:53:45.162613, dtype: float64\n",
        "/home/ataylor/water_sampler_experiment/src/h2o_sampling/h2o_safety/h2o_safety.py:119:0                         1.269897\n",
        "d4a8c703-b0b9-49d4-aae0-d531c47e2d8a                                                                           7.244076\n",
        "/home/ataylor/water_sampler_experiment/src/h2o_sampling/script_utils/FlyToObject.py:41:0                      12.787225\n",
        "e2b00838-92ed-413f-b83d-1bf9041c9ac7                                                                          15.316756\n",
        "/home/ataylor/water_sampler_experiment/src/h2o_sampling/h2o_safety/h2o_safety.py:106:0                        15.923403\n",
        "9cb7cb08-f649-43fb-a4b1-bfdc90b21aae                                                                          16.501815\n",
        "0c95250a-abf7-48bc-bff8-4b7193913af1                                                                          19.480046\n",
        "cda4139c-d4c9-465c-98fc-362b7be76b96                                                                        9999.900000\n",
        "c14f7034-f59c-4cfa-a75a-0daaa9d23fa9                                                                        9999.900000\n",
        "b852d108-8540-47bc-a120-b2c983c9ca91                                                                        9999.900000\n",
        "a0140b8a-fbef-43d8-ab07-74319a97bc73                                                                        9999.900000\n",
        "98045342-fc4e-4b12-904c-5e494c99903d                                                                        9999.900000\n",
        "92c529e0-e6e0-4184-98df-653497207a03                                                                        9999.900000\n",
        "7a1f8257-2d04-476f-baa5-aff1df459502                                                                        9999.900000\n",
        "5ab665dd-e8d8-4b63-a809-a482824a5cbe                                                                        9999.900000\n",
        "552d72ea-07f4-47bd-9f91-ac7031bf3618                                                                        9999.900000\n",
        "4a595395-30e4-4a1e-ba74-e16c604f7e49                                                                        9999.900000\n",
        "29e15808-dbdd-45be-81e8-3cabdc8854c6                                                                        9999.900000\n",
        "26d9dac7-4db1-4c40-9b23-d726e4e8ee90                                                                        9999.900000\n",
        "/home/ataylor/water_sampler_experiment/src/h2o_sampling/h2o_substate_machine/h2oSubstateMachine.py:157:0    9999.900000\n",
        "/home/ataylor/water_sampler_experiment/src/h2o_sampling/h2o_safety/h2o_safety.py:55:0                       9999.900000\n",
        "87f42589-e261-4133-a05d-89a706217982                                                                        9999.900000\n",
        "e37b2e60-f59e-46f4-9ade-37684865cd29                                                                        9999.900000\n",
        "Name: 2015-04-30 20:53:44.962613, dtype: float64\n"
       ]
      }
     ],
     "prompt_number": 4
    },
    {
     "cell_type": "code",
     "collapsed": false,
     "input": [
      "ax = df.a_subject_pose__translation_z.dropna().plot(figsize=(11,8.5), fontsize=20,linewidth=4 )\n",
      "lims = ax.get_ylim()\n",
      "pairs = [(x,(lims[0] + lims[1]) /2) for x in act]\n",
      "nopairs = [(x,(lims[0] + lims[1]) /2) for x in noact]\n",
      "print zip(*pairs)\n",
      "ax.scatter(zip(*pairs)[0], zip(*pairs)[1], c='r',marker='x', s=200)\n",
      "ax.scatter(zip(*nopairs)[0], zip(*nopairs)[1], c='g', marker='x', s=200)\n",
      "ax.set_ylabel('Height (m)', fontsize=20)\n",
      "ax.set_xlabel('Time', fontsize=20)\n",
      "fig = ax.get_figure()\n",
      "fig.savefig('../../thesis/myFigures/waterMission1.png')"
     ],
     "language": "python",
     "metadata": {},
     "outputs": [
      {
       "output_type": "stream",
       "stream": "stdout",
       "text": [
        "[(Timestamp('2015-04-30 20:53:45.171906'), Timestamp('2015-04-30 20:53:44.990338')), (1.25, 1.25)]\n"
       ]
      },
      {
       "metadata": {},
       "output_type": "display_data",
       "png": "[encoded data removed]",
       "text": [
        "<matplotlib.figure.Figure at 0x105610d90>"
       ]
      }
     ],
     "prompt_number": 7
    },
    {
     "cell_type": "code",
     "collapsed": false,
     "input": [
      "for i in range(3):\n",
      "    print i\n",
      "    print '\\t', action[i]\n",
      "    print '\\t', no_actions[i]"
     ],
     "language": "python",
     "metadata": {},
     "outputs": [
      {
       "output_type": "stream",
       "stream": "stdout",
       "text": [
        "0\n",
        "\t[]\n",
        "\t[Timestamp('2015-04-30 20:53:44.671193')]\n",
        "1\n",
        "\t[Timestamp('2015-04-30 20:53:45.171906')]\n",
        "\t[]\n",
        "2\n",
        "\t[Timestamp('2015-04-30 20:53:44.990338')]\n",
        "\t[Timestamp('2015-04-30 20:53:45.070865')]\n"
       ]
      }
     ],
     "prompt_number": 90
    },
    {
     "cell_type": "code",
     "collapsed": false,
     "input": [
      "ok = df[df.a_subject_pose__translation_x < -2.0]\n",
      "first = ok.index[0]\n",
      "n = ok[ok.a_subject_pose__translation_z < 1.8]\n",
      "n.index[0] - first"
     ],
     "language": "python",
     "metadata": {},
     "outputs": [
      {
       "metadata": {},
       "output_type": "pyout",
       "prompt_number": 15,
       "text": [
        "Timedelta('0 days 00:00:10.100134')"
       ]
      }
     ],
     "prompt_number": 15
    },
    {
     "cell_type": "code",
     "collapsed": false,
     "input": [
      "key = '/home/ataylor/water_sampler_experiment/src/h2o_sampling/h2o_safety/h2o_safety.py:119:0'"
     ],
     "language": "python",
     "metadata": {},
     "outputs": [],
     "prompt_number": 98
    },
    {
     "cell_type": "code",
     "collapsed": false,
     "input": [
      "changed_only = thresh_df[thresh_df['key'] == key]"
     ],
     "language": "python",
     "metadata": {},
     "outputs": [],
     "prompt_number": 100
    },
    {
     "cell_type": "code",
     "collapsed": false,
     "input": [
      "ft = changed_only[changed_only['flop']]"
     ],
     "language": "python",
     "metadata": {},
     "outputs": [],
     "prompt_number": 104
    },
    {
     "cell_type": "code",
     "collapsed": false,
     "input": [
      "idx = ft.index[0]"
     ],
     "language": "python",
     "metadata": {},
     "outputs": [],
     "prompt_number": 107
    },
    {
     "cell_type": "code",
     "collapsed": false,
     "input": [
      "for i in noact:\n",
      "   print i - idx\n",
      "for i in act:\n",
      "    print i -idx"
     ],
     "language": "python",
     "metadata": {},
     "outputs": [
      {
       "output_type": "stream",
       "stream": "stdout",
       "text": [
        "0 days 00:00:00.731866\n",
        "0 days 00:00:01.131538\n",
        "0 days 00:00:01.232579\n",
        "0 days 00:00:01.051011\n"
       ]
      }
     ],
     "prompt_number": 111
    },
    {
     "cell_type": "code",
     "collapsed": false,
     "input": [
      "for i in act:\n",
      "    idx = adv_score.index.asof(i)\n",
      "    res = adv_score.loc[idx, :]\n",
      "    res.sort()\n",
      "    print res[0], res.index[0]"
     ],
     "language": "python",
     "metadata": {},
     "outputs": [
      {
       "output_type": "stream",
       "stream": "stdout",
       "text": [
        "1.869897 /home/ataylor/water_sampler_experiment/src/h2o_sampling/h2o_safety/h2o_safety.py:119:0\n",
        "1.269897 /home/ataylor/water_sampler_experiment/src/h2o_sampling/h2o_safety/h2o_safety.py:119:0\n"
       ]
      }
     ],
     "prompt_number": 113
    },
    {
     "cell_type": "code",
     "collapsed": false,
     "input": [
      "for i in noact:\n",
      "    idx = no_adv_score.index.asof(i)\n",
      "    res = no_adv_score.loc[idx, :]\n",
      "    res.sort()\n",
      "    print res[0], res.index[0]\n",
      "    print info[res.index[0]]['source']"
     ],
     "language": "python",
     "metadata": {},
     "outputs": [
      {
       "output_type": "stream",
       "stream": "stdout",
       "text": [
        "2.38256155142e-09 d4a8c703-b0b9-49d4-aae0-d531c47e2d8a\n",
        "waypose_idle_timeout\n",
        "2.38256155142e-09 d4a8c703-b0b9-49d4-aae0-d531c47e2d8a\n",
        "waypose_idle_timeout\n"
       ]
      }
     ],
     "prompt_number": 117
    },
    {
     "cell_type": "code",
     "collapsed": false,
     "input": [
      "adv_score[adv_score[key] != 9999.9][key].plot()"
     ],
     "language": "python",
     "metadata": {},
     "outputs": [
      {
       "ename": "NameError",
       "evalue": "name 'fig_size' is not defined",
       "output_type": "pyerr",
       "traceback": [
        "\u001b[0;31m---------------------------------------------------------------------------\u001b[0m\n\u001b[0;31mNameError\u001b[0m                                 Traceback (most recent call last)",
        "\u001b[0;32m<ipython-input-134-3cae12313ae5>\u001b[0m in \u001b[0;36m<module>\u001b[0;34m()\u001b[0m\n\u001b[0;32m----> 1\u001b[0;31m \u001b[0madv_score\u001b[0m\u001b[0;34m[\u001b[0m\u001b[0madv_score\u001b[0m\u001b[0;34m[\u001b[0m\u001b[0mkey\u001b[0m\u001b[0;34m]\u001b[0m \u001b[0;34m!=\u001b[0m \u001b[0;36m9999.9\u001b[0m\u001b[0;34m]\u001b[0m\u001b[0;34m[\u001b[0m\u001b[0mkey\u001b[0m\u001b[0;34m]\u001b[0m\u001b[0;34m.\u001b[0m\u001b[0mplot\u001b[0m\u001b[0;34m(\u001b[0m\u001b[0mfig_size\u001b[0m\u001b[0;34m(\u001b[0m\u001b[0;36m8.5\u001b[0m\u001b[0;34m,\u001b[0m\u001b[0;36m11\u001b[0m\u001b[0;34m)\u001b[0m\u001b[0;34m)\u001b[0m\u001b[0;34m\u001b[0m\u001b[0m\n\u001b[0m",
        "\u001b[0;31mNameError\u001b[0m: name 'fig_size' is not defined"
       ]
      }
     ],
     "prompt_number": 134
    },
    {
     "cell_type": "code",
     "collapsed": false,
     "input": [
      "for i in noact:\n",
      "    idx = adv_score.index.asof(i)\n",
      "    res = adv_score.loc[idx, :]\n",
      "    res.sort()\n",
      "    print res[0], res.index[0]\n",
      "    print info[res.index[0]]['source']"
     ],
     "language": "python",
     "metadata": {},
     "outputs": [
      {
       "output_type": "stream",
       "stream": "stdout",
       "text": [
        "0.369897 /home/ataylor/water_sampler_experiment/src/h2o_sampling/h2o_safety/h2o_safety.py:119:0\n",
        "altitude_abort_level\n",
        "1.569897 /home/ataylor/water_sampler_experiment/src/h2o_sampling/h2o_safety/h2o_safety.py:119:0\n",
        "altitude_abort_level\n"
       ]
      }
     ],
     "prompt_number": 122
    },
    {
     "cell_type": "code",
     "collapsed": false,
     "input": [
      "ax = adv_score.min(axis=1).plot(figsize=(11 ,8.5), linewidth=3)\n",
      "ax.scatter(adv_score[key].index, adv_score[key], marker='x', c='r')\n",
      "ax.set_ylim(0,20)"
     ],
     "language": "python",
     "metadata": {},
     "outputs": [
      {
       "metadata": {},
       "output_type": "pyout",
       "prompt_number": 143,
       "text": [
        "(0, 20)"
       ]
      },
      {
       "metadata": {},
       "output_type": "display_data",
       "png": "[encoded data removed]",
       "text": [
        "<matplotlib.figure.Figure at 0x11413db10>"
       ]
      }
     ],
     "prompt_number": 143
    },
    {
     "cell_type": "code",
     "collapsed": false,
     "input": [
      "no_max = adv_score.min(axis=1) < 9999\n",
      "no_oob = adv_score[no_max]"
     ],
     "language": "python",
     "metadata": {},
     "outputs": [],
     "prompt_number": 148
    },
    {
     "cell_type": "code",
     "collapsed": false,
     "input": [
      "a = no_oob.idxmin(axis=1).value_counts() / len(no_oob)"
     ],
     "language": "python",
     "metadata": {},
     "outputs": [],
     "prompt_number": 153
    },
    {
     "cell_type": "code",
     "collapsed": false,
     "input": [
      "type(a)"
     ],
     "language": "python",
     "metadata": {},
     "outputs": [
      {
       "metadata": {},
       "output_type": "pyout",
       "prompt_number": 154,
       "text": [
        "pandas.core.series.Series"
       ]
      }
     ],
     "prompt_number": 154
    },
    {
     "cell_type": "code",
     "collapsed": false,
     "input": [
      "times = {}\n",
      "last = None\n",
      "st = None\n",
      "for t, v in no_oob.idxmin(axis=1).iteritems():\n",
      "    if last is None:\n",
      "        last = v\n",
      "        st = t\n",
      "    elif last != v:\n",
      "        telapsed = t - st\n",
      "        dt = (telapsed).total_seconds()\n",
      "        st = t\n",
      "        last = v\n",
      "        if last in times:\n",
      "            times[last].append(dt)\n",
      "        else:\n",
      "            times[last] = [dt]\n",
      "        \n",
      "        \n",
      "        \n",
      "        "
     ],
     "language": "python",
     "metadata": {},
     "outputs": [],
     "prompt_number": 177
    },
    {
     "cell_type": "code",
     "collapsed": false,
     "input": [
      "print times\n",
      "vals = []\n",
      "for i, dom_times in times.iteritems():\n",
      "    print info[i]['source'], np.mean(dom_times)\n",
      "    vals.append(np.mean(dom_times))\n",
      "    "
     ],
     "language": "python",
     "metadata": {},
     "outputs": [
      {
       "output_type": "stream",
       "stream": "stdout",
       "text": [
        "{'e2b00838-92ed-413f-b83d-1bf9041c9ac7': [0.1, 0.6, 2.5], '/home/ataylor/water_sampler_experiment/src/h2o_sampling/h2o_safety/h2o_safety.py:119:0': [3.8, 3.4, 6.1, 4.1], '9cb7cb08-f649-43fb-a4b1-bfdc90b21aae': [0.3], '/home/ataylor/water_sampler_experiment/src/h2o_sampling/h2o_safety/h2o_safety.py:106:0': [0.5, 1.2], '/home/ataylor/water_sampler_experiment/src/h2o_sampling/script_utils/FlyToObject.py:41:0': [1.1, 3.0], 'd4a8c703-b0b9-49d4-aae0-d531c47e2d8a': [2.7, 0.3, 0.4, 2.0, 2.2, 1.6, 0.9, 0.9], '0c95250a-abf7-48bc-bff8-4b7193913af1': [4.3]}\n",
        "pose_error_z 1.06666666667\n",
        "altitude_abort_level 4.35\n",
        "pose_error 0.3\n",
        "altitude_abort_level 0.85\n",
        "xy_error_allowed 2.05\n",
        "waypose_idle_timeout 1.375\n",
        "max_pkt_size 4.3\n"
       ]
      }
     ],
     "prompt_number": 182
    },
    {
     "cell_type": "code",
     "collapsed": false,
     "input": [
      "np.mean(vals)"
     ],
     "language": "python",
     "metadata": {},
     "outputs": [
      {
       "metadata": {},
       "output_type": "pyout",
       "prompt_number": 185,
       "text": [
        "2.0416666666666665"
       ]
      }
     ],
     "prompt_number": 185
    },
    {
     "cell_type": "code",
     "collapsed": false,
     "input": [],
     "language": "python",
     "metadata": {},
     "outputs": []
    }
   ],
   "metadata": {}
  }
 ]
}
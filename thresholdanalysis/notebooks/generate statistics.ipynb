{
 "worksheets": [
  {
   "cells": [
    {
     "cell_type": "code",
     "execution_count": null,
     "metadata": {},
     "outputs": [],
     "input": [
      "import pandas as pd\n",
      "import matplotlib.pyplot as plt\n",
      "import numpy as np\n",
      "import sumerize_vals\n",
      "import glob\n",
      "import csv\n",
      "%matplotlib inline"
     ],
     "language": "python",
     "prompt_number": 78
    },
    {
     "cell_type": "code",
     "execution_count": null,
     "metadata": {},
     "outputs": [
      {
       "output_type": "stream",
       "stream": "stdout",
       "text": [
        "Loading file ../test_data/water_sampler/dynamic/all_info/experiment1_2015-04-30-15-52-51.csv\n",
        "Loading file ../test_data/water_sampler/dynamic/all_info/experiment2_2015-04-30-15-54-45.csv"
       ]
      },
      {
       "output_type": "stream",
       "stream": "stdout",
       "text": [
        "\n",
        "Loading file ../test_data/water_sampler/dynamic/all_info/experiment3_2015-04-30-15-57-33.csv"
       ]
      },
      {
       "output_type": "stream",
       "stream": "stdout",
       "text": [
        "\n",
        "Loading file ../test_data/water_sampler/dynamic/all_info/experiment_no_2015-04-30-15-35-26.csv"
       ]
      },
      {
       "output_type": "stream",
       "stream": "stdout",
       "text": [
        "\n",
        "Loading file ../test_data/water_sampler/dynamic/all_info/experiment_no_2015-04-30-15-45-56.csv"
       ]
      },
      {
       "output_type": "stream",
       "stream": "stdout",
       "text": [
        "\n",
        "Loading file ../test_data/water_sampler/dynamic/all_info/experiment_no_2015-04-30-15-48-30.csv"
       ]
      },
      {
       "output_type": "stream",
       "stream": "stdout",
       "text": [
        "\n"
       ]
      },
      {
       "output_type": "stream",
       "stream": "stderr",
       "text": [
        "/usr/local/lib/python2.7/site-packages/pandas/io/parsers.py:1164: DtypeWarning: Columns (5,6,150) have mixed types. Specify dtype option on import or set low_memory=False.\n",
        "  data = self._reader.read(nrows)\n"
       ]
      }
     ],
     "input": [
      "# get all of the data frames\n",
      "\n",
      "direct = '../test_data/water_sampler/dynamic/all_info/'\n",
      "info_dir = '../test_data/water_sampler/static_info/'\n",
      "info = sumerize_vals.get_info(info_dir)\n",
      "all_dfs = {}\n",
      "for f in glob.glob(direct + '*.csv'):\n",
      "        df = sumerize_vals.get_df(f, info)\n",
      "        all_dfs[f] = df"
     ],
     "language": "python",
     "prompt_number": 8
    },
    {
     "cell_type": "code",
     "execution_count": null,
     "metadata": {},
     "outputs": [],
     "input": [
      "# add some information \n",
      "for f, df in all_dfs.iteritems():\n",
      "    df['source'] = df['key'].apply(lambda x: info[x]['source'])\n",
      "    df['file'] = df['key'].apply(lambda x: info[x]['file'])\n",
      "    df['lineno'] = df['key'].apply(lambda x: info[x]['lineno'])"
     ],
     "language": "python",
     "prompt_number": 20
    },
    {
     "cell_type": "code",
     "execution_count": null,
     "metadata": {},
     "outputs": [
      {
       "output_type": "stream",
       "stream": "stdout",
       "text": [
        "../test_data/water_sampler/dynamic/all_info/experiment2_2015-04-30-15-54-45.csv 100.657\n",
        "../test_data/water_sampler/dynamic/all_info/experiment1_2015-04-30-15-52-51.csv 64.746182\n",
        "../test_data/water_sampler/dynamic/all_info/experiment3_2015-04-30-15-57-33.csv 121.327843\n",
        "../test_data/water_sampler/dynamic/all_info/experiment_no_2015-04-30-15-45-56.csv 104.072835\n",
        "../test_data/water_sampler/dynamic/all_info/experiment_no_2015-04-30-15-48-30.csv 76.923211\n",
        "../test_data/water_sampler/dynamic/all_info/experiment_no_2015-04-30-15-35-26.csv 67.873553\n",
        "535.600624\n"
       ]
      }
     ],
     "input": [
      "# get the total runtime for experiments\n",
      "tt = 0\n",
      "for f, df in all_dfs.iteritems():\n",
      "    t = (df.index[-1]-df.index[0]).total_seconds()\n",
      "    tt += t\n",
      "    print f, t\n",
      "print tt"
     ],
     "language": "python",
     "prompt_number": 37
    },
    {
     "cell_type": "code",
     "execution_count": null,
     "metadata": {},
     "outputs": [],
     "input": [
      "# create a big composite data frame\n",
      "big_df = pd.DataFrame()\n",
      "for df in all_dfs.itervalues():\n",
      "    big_df = big_df.append(df)"
     ],
     "language": "python",
     "prompt_number": 35
    },
    {
     "cell_type": "code",
     "execution_count": null,
     "metadata": {},
     "outputs": [
      {
       "output_type": "pyout",
       "prompt_number": 38,
       "text": [
        "222338"
       ],
       "metadata": {}
      }
     ],
     "input": [
      "# how many comparisions where there\n",
      "len(big_df)"
     ],
     "language": "python",
     "prompt_number": 38
    },
    {
     "cell_type": "code",
     "execution_count": null,
     "metadata": {},
     "outputs": [
      {
       "output_type": "pyout",
       "prompt_number": 42,
       "text": [
        "415.1190085245307"
       ],
       "metadata": {}
      }
     ],
     "input": [
      "# How many per second?\n",
      "float(len(big_df)) / tt"
     ],
     "language": "python",
     "prompt_number": 42
    },
    {
     "cell_type": "code",
     "execution_count": null,
     "metadata": {},
     "outputs": [
      {
       "output_type": "stream",
       "stream": "stdout",
       "text": [
        "flops:  130\n",
        "flop % 0.00058469537371\n"
       ]
      }
     ],
     "input": [
      "# flop instances\n",
      "print 'flops: ', len( big_df[big_df.flop == True])\n",
      "print 'flop %',  len( big_df[big_df.flop == True]) / float(len(big_df))"
     ],
     "language": "python",
     "prompt_number": 46
    },
    {
     "cell_type": "code",
     "execution_count": null,
     "metadata": {},
     "outputs": [
      {
       "output_type": "pyout",
       "prompt_number": 48,
       "text": [
        "24"
       ],
       "metadata": {}
      }
     ],
     "input": [
      "# Print unique predicate on comparisions\n",
      "len(big_df['key'].unique())"
     ],
     "language": "python",
     "prompt_number": 48
    },
    {
     "cell_type": "code",
     "execution_count": null,
     "metadata": {},
     "outputs": [
      {
       "output_type": "pyout",
       "prompt_number": 49,
       "text": [
        "17"
       ],
       "metadata": {}
      }
     ],
     "input": [
      "len(big_df['source'].unique())"
     ],
     "language": "python",
     "prompt_number": 49
    },
    {
     "cell_type": "code",
     "execution_count": null,
     "metadata": {},
     "outputs": [
      {
       "output_type": "stream",
       "stream": "stdout",
       "text": [
        "0.413793103448\n",
        "0.414634146341\n"
       ]
      }
     ],
     "input": [
      "print 24 / 58.\n",
      "print 17 / 41."
     ],
     "language": "python",
     "prompt_number": 189
    },
    {
     "cell_type": "code",
     "execution_count": null,
     "metadata": {},
     "outputs": [
      {
       "output_type": "pyout",
       "prompt_number": 52,
       "text": [
        "array([u'max_pkt_size', u'enable_pitch_ctrl', u'enable_roll_ctrl',\n",
        "       u'enable_yaw_ctrl', u'waypose_idle_timeout', u'indoor',\n",
        "       u'altitude_abort_level', u'enable_baro_ctrl_mode',\n",
        "       u'enable_derv_fir_filter', u'collapse_deadband',\n",
        "       u'enable_thrust_iir_filter', u'enable_thrust_ctrl',\n",
        "       u'gps_enable_mode', u'check_dist_z_separately', u'pose_error',\n",
        "       u'pose_error_z', u'xy_error_allowed'], dtype=object)"
       ],
       "metadata": {}
      }
     ],
     "input": [
      "big_df.source.unique()"
     ],
     "language": "python",
     "prompt_number": 52
    },
    {
     "cell_type": "code",
     "execution_count": null,
     "metadata": {},
     "outputs": [],
     "input": [
      "keys = []\n",
      "size = []\n",
      "per_sec = []\n",
      "locations = [] \n",
      "flops = []\n",
      "seconds = []\n",
      "sec_perc = []\n",
      "tp = []\n",
      "fp = []\n",
      "for src, data in big_df.groupby('source'):\n",
      "    keys.append(src)\n",
      "    size.append(len(data))\n",
      "    per_sec.append(len(data) / tt)\n",
      "    locations.append(len(data['key'].unique()))\n",
      "    flops.append(len(data[data['flop'] == True]))\n",
      "    s = set()\n",
      "    for i in data.index:\n",
      "        s.add(str(i.minute)+ str(i.second))\n",
      "    seconds.append(len(s))\n",
      "    sec_perc.append(int((len(s)/ float(tt)* 100)))\n",
      "    trues = len(data[data['res'] == 1])\n",
      "    falses = len(data) - trues\n",
      "    tp.append((float(trues) / (trues + falses)) * 100)\n",
      "    fp.append((float(falses) / (trues + falses)) * 100) \n",
      "    \n",
      "stats_df = pd.DataFrame(index= keys, data={\n",
      "'Locations' : locations,\n",
      "'Comparisions' : size,\n",
      "'Frequency' : per_sec,\n",
      "#'Seconds Present' : seconds,\n",
      "'Runtime \\%' : sec_perc,\n",
      "'Flops' : flops, \n",
      "'True \\%' : tp,\n",
      "'False \\%' : fp,\n",
      "},\n",
      "columns = [\n",
      "'Locations',\n",
      "'Comparisions',\n",
      "'Frequency',\n",
      "#'Seconds Present',\n",
      "'Runtime \\%',\n",
      "'Flops', \n",
      "'True \\%',\n",
      "'False \\%',\n",
      "]\n",
      "                        )"
     ],
     "language": "python",
     "prompt_number": 208
    },
    {
     "cell_type": "code",
     "execution_count": null,
     "metadata": {},
     "outputs": [],
     "input": [
      "sums = stats_df.sum()\n",
      "medians = stats_df.median()\n",
      "means = stats_df.mean()\n",
      "stds = stats_df.std()\n",
      "mins = stats_df.min()\n",
      "maxs = stats_df.max()\n",
      "stats_df_clean = stats_df.copy()\n",
      "for col in stats_df.columns:\n",
      "    stats_df.loc['\\\\textbf{mean}', col] = means[col]\n",
      "    stats_df.loc['\\\\textbf{median}', col] = medians[col]\n",
      "    stats_df.loc['\\\\textbf{std}', col] = stds[col]\n",
      "    stats_df.loc['\\\\textbf{minimum}', col] = mins[col]\n",
      "    stats_df.loc['\\\\textbf{maximum}', col] = maxs[col]\n",
      "    stats_df.loc['\\\\textbf{sum}', col] = sums[col]"
     ],
     "language": "python",
     "prompt_number": 209
    },
    {
     "cell_type": "code",
     "execution_count": null,
     "metadata": {},
     "outputs": [
      {
       "output_type": "pyout",
       "html": [
        "<div style=\"max-height:1000px;max-width:1500px;overflow:auto;\">\n",
        "<table border=\"1\" class=\"dataframe\">\n",
        "  <thead>\n",
        "    <tr style=\"text-align: right;\">\n",
        "      <th></th>\n",
        "      <th>Locations</th>\n",
        "      <th>Comparisions</th>\n",
        "      <th>Frequency</th>\n",
        "      <th>Runtime \\%</th>\n",
        "      <th>Flops</th>\n",
        "      <th>True \\%</th>\n",
        "      <th>False \\%</th>\n",
        "    </tr>\n",
        "  </thead>\n",
        "  <tbody>\n",
        "    <tr>\n",
        "      <th>altitude_abort_level</th>\n",
        "      <td>2.000000</td>\n",
        "      <td>4105.000000</td>\n",
        "      <td>7.664293</td>\n",
        "      <td>77.000000</td>\n",
        "      <td>10.000000</td>\n",
        "      <td>4.677223</td>\n",
        "      <td>95.322777</td>\n",
        "    </tr>\n",
        "    <tr>\n",
        "      <th>check_dist_z_separately</th>\n",
        "      <td>1.000000</td>\n",
        "      <td>7325.000000</td>\n",
        "      <td>13.676235</td>\n",
        "      <td>8.000000</td>\n",
        "      <td>0.000000</td>\n",
        "      <td>0.000000</td>\n",
        "      <td>100.000000</td>\n",
        "    </tr>\n",
        "    <tr>\n",
        "      <th>collapse_deadband</th>\n",
        "      <td>1.000000</td>\n",
        "      <td>15065.000000</td>\n",
        "      <td>28.127301</td>\n",
        "      <td>71.000000</td>\n",
        "      <td>0.000000</td>\n",
        "      <td>100.000000</td>\n",
        "      <td>0.000000</td>\n",
        "    </tr>\n",
        "    <tr>\n",
        "      <th>enable_baro_ctrl_mode</th>\n",
        "      <td>2.000000</td>\n",
        "      <td>30131.000000</td>\n",
        "      <td>56.256469</td>\n",
        "      <td>71.000000</td>\n",
        "      <td>0.000000</td>\n",
        "      <td>100.000000</td>\n",
        "      <td>0.000000</td>\n",
        "    </tr>\n",
        "    <tr>\n",
        "      <th>enable_derv_fir_filter</th>\n",
        "      <td>1.000000</td>\n",
        "      <td>15067.000000</td>\n",
        "      <td>28.131035</td>\n",
        "      <td>71.000000</td>\n",
        "      <td>0.000000</td>\n",
        "      <td>100.000000</td>\n",
        "      <td>0.000000</td>\n",
        "    </tr>\n",
        "    <tr>\n",
        "      <th>enable_pitch_ctrl</th>\n",
        "      <td>2.000000</td>\n",
        "      <td>15075.000000</td>\n",
        "      <td>28.145972</td>\n",
        "      <td>72.000000</td>\n",
        "      <td>0.000000</td>\n",
        "      <td>0.000000</td>\n",
        "      <td>100.000000</td>\n",
        "    </tr>\n",
        "    <tr>\n",
        "      <th>enable_roll_ctrl</th>\n",
        "      <td>2.000000</td>\n",
        "      <td>15073.000000</td>\n",
        "      <td>28.142238</td>\n",
        "      <td>72.000000</td>\n",
        "      <td>0.000000</td>\n",
        "      <td>0.000000</td>\n",
        "      <td>100.000000</td>\n",
        "    </tr>\n",
        "    <tr>\n",
        "      <th>enable_thrust_ctrl</th>\n",
        "      <td>1.000000</td>\n",
        "      <td>15063.000000</td>\n",
        "      <td>28.123567</td>\n",
        "      <td>71.000000</td>\n",
        "      <td>0.000000</td>\n",
        "      <td>0.000000</td>\n",
        "      <td>100.000000</td>\n",
        "    </tr>\n",
        "    <tr>\n",
        "      <th>enable_thrust_iir_filter</th>\n",
        "      <td>1.000000</td>\n",
        "      <td>15068.000000</td>\n",
        "      <td>28.132902</td>\n",
        "      <td>71.000000</td>\n",
        "      <td>0.000000</td>\n",
        "      <td>100.000000</td>\n",
        "      <td>0.000000</td>\n",
        "    </tr>\n",
        "    <tr>\n",
        "      <th>enable_yaw_ctrl</th>\n",
        "      <td>2.000000</td>\n",
        "      <td>15075.000000</td>\n",
        "      <td>28.145972</td>\n",
        "      <td>72.000000</td>\n",
        "      <td>0.000000</td>\n",
        "      <td>0.000000</td>\n",
        "      <td>100.000000</td>\n",
        "    </tr>\n",
        "    <tr>\n",
        "      <th>gps_enable_mode</th>\n",
        "      <td>1.000000</td>\n",
        "      <td>15067.000000</td>\n",
        "      <td>28.131035</td>\n",
        "      <td>71.000000</td>\n",
        "      <td>0.000000</td>\n",
        "      <td>0.000000</td>\n",
        "      <td>100.000000</td>\n",
        "    </tr>\n",
        "    <tr>\n",
        "      <th>indoor</th>\n",
        "      <td>2.000000</td>\n",
        "      <td>4863.000000</td>\n",
        "      <td>9.079526</td>\n",
        "      <td>91.000000</td>\n",
        "      <td>0.000000</td>\n",
        "      <td>0.000000</td>\n",
        "      <td>100.000000</td>\n",
        "    </tr>\n",
        "    <tr>\n",
        "      <th>max_pkt_size</th>\n",
        "      <td>1.000000</td>\n",
        "      <td>44887.000000</td>\n",
        "      <td>83.806848</td>\n",
        "      <td>100.000000</td>\n",
        "      <td>12.000000</td>\n",
        "      <td>99.986633</td>\n",
        "      <td>0.013367</td>\n",
        "    </tr>\n",
        "    <tr>\n",
        "      <th>pose_error</th>\n",
        "      <td>1.000000</td>\n",
        "      <td>7328.000000</td>\n",
        "      <td>13.681836</td>\n",
        "      <td>8.000000</td>\n",
        "      <td>18.000000</td>\n",
        "      <td>69.609716</td>\n",
        "      <td>30.390284</td>\n",
        "    </tr>\n",
        "    <tr>\n",
        "      <th>pose_error_z</th>\n",
        "      <td>1.000000</td>\n",
        "      <td>2227.000000</td>\n",
        "      <td>4.157949</td>\n",
        "      <td>3.000000</td>\n",
        "      <td>16.000000</td>\n",
        "      <td>99.281545</td>\n",
        "      <td>0.718455</td>\n",
        "    </tr>\n",
        "    <tr>\n",
        "      <th>waypose_idle_timeout</th>\n",
        "      <td>1.000000</td>\n",
        "      <td>531.000000</td>\n",
        "      <td>0.991410</td>\n",
        "      <td>99.000000</td>\n",
        "      <td>69.000000</td>\n",
        "      <td>77.589454</td>\n",
        "      <td>22.410546</td>\n",
        "    </tr>\n",
        "    <tr>\n",
        "      <th>xy_error_allowed</th>\n",
        "      <td>2.000000</td>\n",
        "      <td>388.000000</td>\n",
        "      <td>0.724420</td>\n",
        "      <td>18.000000</td>\n",
        "      <td>5.000000</td>\n",
        "      <td>1.288660</td>\n",
        "      <td>98.711340</td>\n",
        "    </tr>\n",
        "    <tr>\n",
        "      <th>\\textbf{mean}</th>\n",
        "      <td>1.411765</td>\n",
        "      <td>13078.705882</td>\n",
        "      <td>24.418765</td>\n",
        "      <td>61.529412</td>\n",
        "      <td>7.647059</td>\n",
        "      <td>44.260778</td>\n",
        "      <td>55.739222</td>\n",
        "    </tr>\n",
        "    <tr>\n",
        "      <th>\\textbf{median}</th>\n",
        "      <td>1.000000</td>\n",
        "      <td>15065.000000</td>\n",
        "      <td>28.127301</td>\n",
        "      <td>71.000000</td>\n",
        "      <td>0.000000</td>\n",
        "      <td>4.677223</td>\n",
        "      <td>95.322777</td>\n",
        "    </tr>\n",
        "    <tr>\n",
        "      <th>\\textbf{std}</th>\n",
        "      <td>0.507300</td>\n",
        "      <td>11137.498691</td>\n",
        "      <td>20.794409</td>\n",
        "      <td>31.533945</td>\n",
        "      <td>16.985071</td>\n",
        "      <td>48.373575</td>\n",
        "      <td>48.373575</td>\n",
        "    </tr>\n",
        "    <tr>\n",
        "      <th>\\textbf{minimum}</th>\n",
        "      <td>1.000000</td>\n",
        "      <td>388.000000</td>\n",
        "      <td>0.724420</td>\n",
        "      <td>3.000000</td>\n",
        "      <td>0.000000</td>\n",
        "      <td>0.000000</td>\n",
        "      <td>0.000000</td>\n",
        "    </tr>\n",
        "    <tr>\n",
        "      <th>\\textbf{maximum}</th>\n",
        "      <td>2.000000</td>\n",
        "      <td>44887.000000</td>\n",
        "      <td>83.806848</td>\n",
        "      <td>100.000000</td>\n",
        "      <td>69.000000</td>\n",
        "      <td>100.000000</td>\n",
        "      <td>100.000000</td>\n",
        "    </tr>\n",
        "    <tr>\n",
        "      <th>\\textbf{sum}</th>\n",
        "      <td>24.000000</td>\n",
        "      <td>222338.000000</td>\n",
        "      <td>415.119009</td>\n",
        "      <td>1046.000000</td>\n",
        "      <td>130.000000</td>\n",
        "      <td>752.433230</td>\n",
        "      <td>947.566770</td>\n",
        "    </tr>\n",
        "  </tbody>\n",
        "</table>\n",
        "</div>"
       ],
       "metadata": {}
      }
     ],
     "input": [
      "stats_df"
     ],
     "language": "python",
     "prompt_number": 210
    },
    {
     "cell_type": "code",
     "execution_count": null,
     "metadata": {},
     "outputs": [],
     "input": [
      "def to_latex(df, fout):\n",
      "    idx = [x.replace('_', '\\_') for x in stats_df.index]\n",
      "    stats_df.index = idx\n",
      "    stats_df.to_csv(fout, sep='&', line_terminator='\\\\\\\\\\n',\n",
      "                    float_format='%.1f', quoting=csv.QUOTE_NONE, \n",
      "                    escapechar=' ', index_label='Paramter')\n",
      "    \n",
      "\n",
      "to_latex(stats_df, '../../thesis/data/water_sampler_gen_results.csv')"
     ],
     "language": "python",
     "prompt_number": 211
    },
    {
     "cell_type": "code",
     "execution_count": null,
     "metadata": {},
     "outputs": [
      {
       "output_type": "pyout",
       "prompt_number": 213,
       "text": [
        "<matplotlib.axes._subplots.AxesSubplot at 0x10a4bd8d0>"
       ],
       "metadata": {}
      },
      {
       "output_type": "display_data",
       "png": "[encoded data removed]",
       "text": [
        "<matplotlib.figure.Figure at 0x10b87a450>"
       ],
       "metadata": {}
      }
     ],
     "input": [
      "stats_df_clean.Frequency.value_counts()\n",
      "stats_df_clean.Frequency.plot(rot=90, marker='x')"
     ],
     "language": "python",
     "prompt_number": 213
    },
    {
     "cell_type": "code",
     "execution_count": null,
     "metadata": {},
     "outputs": [
      {
       "output_type": "display_data",
       "png": "[encoded data removed]",
       "text": [
        "<matplotlib.figure.Figure at 0x112370510>"
       ],
       "metadata": {}
      }
     ],
     "input": [
      "rtp = stats_df_clean['Runtime \\%'].copy()\n",
      "rtp.sort()\n",
      "ax = rtp.plot(kind='bar', y='Runtime %', figsize=(11,8.5), fontsize=10)\n",
      "ax = ax.get_axes()\n",
      "ax.yaxis.set_label('Runtime \\%')"
     ],
     "language": "python",
     "prompt_number": 238
    },
    {
     "cell_type": "code",
     "execution_count": null,
     "metadata": {},
     "outputs": [
      {
       "output_type": "display_data",
       "png": "[encoded data removed]",
       "text": [
        "<matplotlib.figure.Figure at 0x112370c90>"
       ],
       "metadata": {}
      }
     ],
     "input": [
      "rtp = stats_df_clean['True \\%'].copy()\n",
      "rtp.sort()\n",
      "ax = rtp.plot(kind='bar', y='True %', figsize=(11,8.5), fontsize=10)\n",
      "ax = ax.get_axes()\n",
      "ax.yaxis.set_label('True \\%')"
     ],
     "language": "python",
     "prompt_number": 240
    },
    {
     "cell_type": "code",
     "execution_count": null,
     "metadata": {},
     "outputs": [
      {
       "output_type": "pyout",
       "prompt_number": 241,
       "text": [
        "0.35294117647058826"
       ],
       "metadata": {}
      }
     ],
     "input": [
      "6. / 17"
     ],
     "language": "python",
     "prompt_number": 241
    },
    {
     "cell_type": "code",
     "execution_count": null,
     "metadata": {},
     "outputs": [],
     "input": [
      "x = stats_df_clean['Flops']\n",
      "y = stats_df_clean['Runtime \\%']"
     ],
     "language": "python",
     "prompt_number": 242
    },
    {
     "cell_type": "code",
     "execution_count": null,
     "metadata": {},
     "outputs": [
      {
       "output_type": "pyout",
       "prompt_number": 245,
       "text": [
        "<matplotlib.collections.PathCollection at 0x111acebd0>"
       ],
       "metadata": {}
      },
      {
       "output_type": "display_data",
       "png": "[encoded data removed]",
       "text": [
        "<matplotlib.figure.Figure at 0x111c93bd0>"
       ],
       "metadata": {}
      }
     ],
     "input": [
      "plt.scatter(x,stats_df_clean.Frequency)"
     ],
     "language": "python",
     "prompt_number": 245
    },
    {
     "cell_type": "code",
     "execution_count": null,
     "metadata": {},
     "outputs": [],
     "input": [
      ""
     ],
     "language": "python"
    }
   ]
  }
 ],
 "cells": [],
 "metadata": {
  "name": "",
  "signature": "sha256:75035e24109964d06c6e08a545dfdfc299bf4f5e0c77a001a64fff14df89c1d9"
 },
 "nbformat": 3,
 "nbformat_minor": 0
}
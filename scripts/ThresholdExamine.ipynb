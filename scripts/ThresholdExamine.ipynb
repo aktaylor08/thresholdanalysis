{
 "metadata": {
  "name": ""
 },
 "nbformat": 3,
 "nbformat_minor": 0,
 "worksheets": [
  {
   "cells": [
    {
     "cell_type": "code",
     "collapsed": false,
     "input": [
      "import pandas as pd\n",
      "import matplotlib.pyplot as plt\n",
      "import numpy as np\n",
      "import sumerize_vals\n",
      "import experiment_examine\n",
      "import glob\n",
      "import csv\n",
      "%matplotlib inline"
     ],
     "language": "python",
     "metadata": {},
     "outputs": [],
     "prompt_number": 1
    },
    {
     "cell_type": "code",
     "collapsed": false,
     "input": [
      "info_dir = '/home/ataylor/clang_results/'\n",
      "experiment = '/home/ataylor/2015-05-04-14-02-58.csv'\n",
      "info = sumerize_vals.get_info(info_dir)\n",
      "thresh_df = sumerize_vals.get_df(experiment, info)"
     ],
     "language": "python",
     "metadata": {},
     "outputs": [
      {
       "output_type": "stream",
       "stream": "stdout",
       "text": [
        "Loading file /home/ataylor/2015-05-04-14-02-58.csv\n"
       ]
      }
     ],
     "prompt_number": 2
    },
    {
     "cell_type": "code",
     "collapsed": false,
     "input": [
      "len(info)"
     ],
     "language": "python",
     "metadata": {},
     "outputs": [
      {
       "metadata": {},
       "output_type": "pyout",
       "prompt_number": 4,
       "text": [
        "78"
       ]
      }
     ],
     "prompt_number": 4
    },
    {
     "cell_type": "code",
     "collapsed": false,
     "input": [
      "len(thresh_df)"
     ],
     "language": "python",
     "metadata": {},
     "outputs": [
      {
       "metadata": {},
       "output_type": "pyout",
       "prompt_number": 6,
       "text": [
        "13421"
       ]
      }
     ],
     "prompt_number": 6
    },
    {
     "cell_type": "code",
     "collapsed": false,
     "input": [
      "thresh_df['source'] = thresh_df['key'].apply(lambda x: info[x]['source'])\n",
      "thresh_df['file'] = thresh_df['key'].apply(lambda x: info[x]['file'])\n",
      "thresh_df['lineno'] = thresh_df['key'].apply(lambda x: info[x]['lineno'])"
     ],
     "language": "python",
     "metadata": {},
     "outputs": [],
     "prompt_number": 8
    },
    {
     "cell_type": "code",
     "collapsed": false,
     "input": [
      "time = thresh_df.index[-1] - thresh_df.index[0]\n",
      "time = time.total_seconds()"
     ],
     "language": "python",
     "metadata": {},
     "outputs": [],
     "prompt_number": 11
    },
    {
     "cell_type": "code",
     "collapsed": false,
     "input": [
      "len(thresh_df) / time"
     ],
     "language": "python",
     "metadata": {},
     "outputs": [
      {
       "metadata": {},
       "output_type": "pyout",
       "prompt_number": 14,
       "text": [
        "137.19050066845742"
       ]
      }
     ],
     "prompt_number": 14
    },
    {
     "cell_type": "code",
     "collapsed": false,
     "input": [
      "big_df = thresh_df"
     ],
     "language": "python",
     "metadata": {},
     "outputs": [],
     "prompt_number": 15
    },
    {
     "cell_type": "code",
     "collapsed": false,
     "input": [
      "print 'flops: ', len( big_df[big_df.flop == True])\n",
      "print 'flop %',  len( big_df[big_df.flop == True]) / float(len(big_df))"
     ],
     "language": "python",
     "metadata": {},
     "outputs": [
      {
       "output_type": "stream",
       "stream": "stdout",
       "text": [
        "flops:  8\n",
        "flop % 0.000596080768944\n"
       ]
      }
     ],
     "prompt_number": 16
    },
    {
     "cell_type": "code",
     "collapsed": false,
     "input": [
      "len(big_df['key'].unique())"
     ],
     "language": "python",
     "metadata": {},
     "outputs": [
      {
       "metadata": {},
       "output_type": "pyout",
       "prompt_number": 17,
       "text": [
        "16"
       ]
      }
     ],
     "prompt_number": 17
    },
    {
     "cell_type": "code",
     "collapsed": false,
     "input": [
      "big_df.source.unique()"
     ],
     "language": "python",
     "metadata": {},
     "outputs": [
      {
       "metadata": {},
       "output_type": "pyout",
       "prompt_number": 18,
       "text": [
        "array([u'update_min_d', u'tf_broadcast', u'~cmd_vel_timeout',\n",
        "       u'~brake_limit', u'shutdown_costmaps', u'oscillation_distance',\n",
        "       u'visualize_potential', u'prune_plan', u'xy_goal_tolerance',\n",
        "       u'~max_forward_speed', u'~min_forward_speed'], dtype=object)"
       ]
      }
     ],
     "prompt_number": 18
    },
    {
     "cell_type": "code",
     "collapsed": false,
     "input": [
      "len(big_df.source.unique())"
     ],
     "language": "python",
     "metadata": {},
     "outputs": [
      {
       "metadata": {},
       "output_type": "pyout",
       "prompt_number": 19,
       "text": [
        "11"
       ]
      }
     ],
     "prompt_number": 19
    },
    {
     "cell_type": "code",
     "collapsed": false,
     "input": [
      "keys = []\n",
      "size = []\n",
      "per_sec = []\n",
      "locations = [] \n",
      "flops = []\n",
      "seconds = []\n",
      "sec_perc = []\n",
      "tp = []\n",
      "fp = []\n",
      "for src, data in big_df.groupby('source'):\n",
      "    keys.append(src)\n",
      "    size.append(len(data))\n",
      "    per_sec.append(len(data) / time)\n",
      "    locations.append(len(data['key'].unique()))\n",
      "    flops.append(len(data[data['flop'] == True]))\n",
      "    s = set()\n",
      "    for i in data.index:\n",
      "        s.add(str(i.minute)+ str(i.second))\n",
      "    seconds.append(len(s))\n",
      "    sec_perc.append(int((len(s)/ float(time)* 100)))\n",
      "    trues = len(data[data['res'] == 1])\n",
      "    falses = len(data) - trues\n",
      "    tp.append((float(trues) / (trues + falses)) * 100)\n",
      "    fp.append((float(falses) / (trues + falses)) * 100) \n",
      "    \n",
      "stats_df = pd.DataFrame(index= keys, data={\n",
      "'Locations' : locations,\n",
      "'Comparisions' : size,\n",
      "'Frequency' : per_sec,\n",
      "#'Seconds Present' : seconds,\n",
      "'Runtime \\%' : sec_perc,\n",
      "'Flops' : flops, \n",
      "'True \\%' : tp,\n",
      "'False \\%' : fp,\n",
      "},\n",
      "columns = [\n",
      "'Locations',\n",
      "'Comparisions',\n",
      "'Frequency',\n",
      "#'Seconds Present',\n",
      "'Runtime \\%',\n",
      "'Flops', \n",
      "'True \\%',\n",
      "'False \\%',\n",
      "]\n",
      "                        )"
     ],
     "language": "python",
     "metadata": {},
     "outputs": [],
     "prompt_number": 22
    },
    {
     "cell_type": "code",
     "collapsed": false,
     "input": [
      "sums = stats_df.sum()\n",
      "medians = stats_df.median()\n",
      "means = stats_df.mean()\n",
      "stds = stats_df.std()\n",
      "mins = stats_df.min()\n",
      "maxs = stats_df.max()\n",
      "stats_df_clean = stats_df.copy()\n",
      "for col in stats_df.columns:\n",
      "    stats_df.loc['\\\\textbf{mean}', col] = means[col]\n",
      "    stats_df.loc['\\\\textbf{median}', col] = medians[col]\n",
      "    stats_df.loc['\\\\textbf{std}', col] = stds[col]\n",
      "    stats_df.loc['\\\\textbf{minimum}', col] = mins[col]\n",
      "    stats_df.loc['\\\\textbf{maximum}', col] = maxs[col]\n",
      "    stats_df.loc['\\\\textbf{sum}', col] = sums[col]\n",
      "    \n",
      "\n"
     ],
     "language": "python",
     "metadata": {},
     "outputs": [],
     "prompt_number": 23
    },
    {
     "cell_type": "code",
     "collapsed": false,
     "input": [
      "stats_df"
     ],
     "language": "python",
     "metadata": {},
     "outputs": [
      {
       "html": [
        "<div style=\"max-height:1000px;max-width:1500px;overflow:auto;\">\n",
        "<table border=\"1\" class=\"dataframe\">\n",
        "  <thead>\n",
        "    <tr style=\"text-align: right;\">\n",
        "      <th></th>\n",
        "      <th>Locations</th>\n",
        "      <th>Comparisions</th>\n",
        "      <th>Frequency</th>\n",
        "      <th>Runtime \\%</th>\n",
        "      <th>Flops</th>\n",
        "      <th>True \\%</th>\n",
        "      <th>False \\%</th>\n",
        "    </tr>\n",
        "  </thead>\n",
        "  <tbody>\n",
        "    <tr>\n",
        "      <th>oscillation_distance</th>\n",
        "      <td>1.000000</td>\n",
        "      <td>1671.000000</td>\n",
        "      <td>17.081091</td>\n",
        "      <td>86.000000</td>\n",
        "      <td>1.000000</td>\n",
        "      <td>99.940156</td>\n",
        "      <td>0.059844</td>\n",
        "    </tr>\n",
        "    <tr>\n",
        "      <th>prune_plan</th>\n",
        "      <td>1.000000</td>\n",
        "      <td>1623.000000</td>\n",
        "      <td>16.590432</td>\n",
        "      <td>84.000000</td>\n",
        "      <td>0.000000</td>\n",
        "      <td>0.000000</td>\n",
        "      <td>100.000000</td>\n",
        "    </tr>\n",
        "    <tr>\n",
        "      <th>shutdown_costmaps</th>\n",
        "      <td>1.000000</td>\n",
        "      <td>1.000000</td>\n",
        "      <td>0.010222</td>\n",
        "      <td>1.000000</td>\n",
        "      <td>0.000000</td>\n",
        "      <td>100.000000</td>\n",
        "      <td>0.000000</td>\n",
        "    </tr>\n",
        "    <tr>\n",
        "      <th>tf_broadcast</th>\n",
        "      <td>2.000000</td>\n",
        "      <td>964.000000</td>\n",
        "      <td>9.854083</td>\n",
        "      <td>100.000000</td>\n",
        "      <td>0.000000</td>\n",
        "      <td>0.000000</td>\n",
        "      <td>100.000000</td>\n",
        "    </tr>\n",
        "    <tr>\n",
        "      <th>update_min_d</th>\n",
        "      <td>2.000000</td>\n",
        "      <td>1926.000000</td>\n",
        "      <td>19.687721</td>\n",
        "      <td>100.000000</td>\n",
        "      <td>2.000000</td>\n",
        "      <td>99.948079</td>\n",
        "      <td>0.051921</td>\n",
        "    </tr>\n",
        "    <tr>\n",
        "      <th>visualize_potential</th>\n",
        "      <td>1.000000</td>\n",
        "      <td>5.000000</td>\n",
        "      <td>0.051110</td>\n",
        "      <td>5.000000</td>\n",
        "      <td>0.000000</td>\n",
        "      <td>100.000000</td>\n",
        "      <td>0.000000</td>\n",
        "    </tr>\n",
        "    <tr>\n",
        "      <th>xy_goal_tolerance</th>\n",
        "      <td>1.000000</td>\n",
        "      <td>1623.000000</td>\n",
        "      <td>16.590432</td>\n",
        "      <td>84.000000</td>\n",
        "      <td>0.000000</td>\n",
        "      <td>100.000000</td>\n",
        "      <td>0.000000</td>\n",
        "    </tr>\n",
        "    <tr>\n",
        "      <th>~brake_limit</th>\n",
        "      <td>2.000000</td>\n",
        "      <td>968.000000</td>\n",
        "      <td>9.894971</td>\n",
        "      <td>100.000000</td>\n",
        "      <td>4.000000</td>\n",
        "      <td>88.223140</td>\n",
        "      <td>11.776860</td>\n",
        "    </tr>\n",
        "    <tr>\n",
        "      <th>~cmd_vel_timeout</th>\n",
        "      <td>1.000000</td>\n",
        "      <td>484.000000</td>\n",
        "      <td>4.947485</td>\n",
        "      <td>100.000000</td>\n",
        "      <td>1.000000</td>\n",
        "      <td>44.834711</td>\n",
        "      <td>55.165289</td>\n",
        "    </tr>\n",
        "    <tr>\n",
        "      <th>~max_forward_speed</th>\n",
        "      <td>2.000000</td>\n",
        "      <td>2078.000000</td>\n",
        "      <td>21.241477</td>\n",
        "      <td>56.000000</td>\n",
        "      <td>0.000000</td>\n",
        "      <td>0.000000</td>\n",
        "      <td>100.000000</td>\n",
        "    </tr>\n",
        "    <tr>\n",
        "      <th>~min_forward_speed</th>\n",
        "      <td>2.000000</td>\n",
        "      <td>2078.000000</td>\n",
        "      <td>21.241477</td>\n",
        "      <td>56.000000</td>\n",
        "      <td>0.000000</td>\n",
        "      <td>0.000000</td>\n",
        "      <td>100.000000</td>\n",
        "    </tr>\n",
        "    <tr>\n",
        "      <th>\\textbf{mean}</th>\n",
        "      <td>1.454545</td>\n",
        "      <td>1220.090909</td>\n",
        "      <td>12.471864</td>\n",
        "      <td>70.181818</td>\n",
        "      <td>0.727273</td>\n",
        "      <td>57.540553</td>\n",
        "      <td>42.459447</td>\n",
        "    </tr>\n",
        "    <tr>\n",
        "      <th>\\textbf{median}</th>\n",
        "      <td>1.000000</td>\n",
        "      <td>1623.000000</td>\n",
        "      <td>16.590432</td>\n",
        "      <td>84.000000</td>\n",
        "      <td>0.000000</td>\n",
        "      <td>88.223140</td>\n",
        "      <td>11.776860</td>\n",
        "    </tr>\n",
        "    <tr>\n",
        "      <th>\\textbf{std}</th>\n",
        "      <td>0.522233</td>\n",
        "      <td>783.064806</td>\n",
        "      <td>8.004549</td>\n",
        "      <td>36.912920</td>\n",
        "      <td>1.272078</td>\n",
        "      <td>48.322934</td>\n",
        "      <td>48.322934</td>\n",
        "    </tr>\n",
        "    <tr>\n",
        "      <th>\\textbf{minimum}</th>\n",
        "      <td>1.000000</td>\n",
        "      <td>1.000000</td>\n",
        "      <td>0.010222</td>\n",
        "      <td>1.000000</td>\n",
        "      <td>0.000000</td>\n",
        "      <td>0.000000</td>\n",
        "      <td>0.000000</td>\n",
        "    </tr>\n",
        "    <tr>\n",
        "      <th>\\textbf{maximum}</th>\n",
        "      <td>2.000000</td>\n",
        "      <td>2078.000000</td>\n",
        "      <td>21.241477</td>\n",
        "      <td>100.000000</td>\n",
        "      <td>4.000000</td>\n",
        "      <td>100.000000</td>\n",
        "      <td>100.000000</td>\n",
        "    </tr>\n",
        "    <tr>\n",
        "      <th>\\textbf{sum}</th>\n",
        "      <td>16.000000</td>\n",
        "      <td>13421.000000</td>\n",
        "      <td>137.190501</td>\n",
        "      <td>772.000000</td>\n",
        "      <td>8.000000</td>\n",
        "      <td>632.946086</td>\n",
        "      <td>467.053914</td>\n",
        "    </tr>\n",
        "  </tbody>\n",
        "</table>\n",
        "</div>"
       ],
       "metadata": {},
       "output_type": "pyout",
       "prompt_number": 24,
       "text": [
        "                      Locations  Comparisions   Frequency  Runtime \\%  \\\n",
        "oscillation_distance   1.000000   1671.000000   17.081091   86.000000   \n",
        "prune_plan             1.000000   1623.000000   16.590432   84.000000   \n",
        "shutdown_costmaps      1.000000      1.000000    0.010222    1.000000   \n",
        "tf_broadcast           2.000000    964.000000    9.854083  100.000000   \n",
        "update_min_d           2.000000   1926.000000   19.687721  100.000000   \n",
        "visualize_potential    1.000000      5.000000    0.051110    5.000000   \n",
        "xy_goal_tolerance      1.000000   1623.000000   16.590432   84.000000   \n",
        "~brake_limit           2.000000    968.000000    9.894971  100.000000   \n",
        "~cmd_vel_timeout       1.000000    484.000000    4.947485  100.000000   \n",
        "~max_forward_speed     2.000000   2078.000000   21.241477   56.000000   \n",
        "~min_forward_speed     2.000000   2078.000000   21.241477   56.000000   \n",
        "\\textbf{mean}          1.454545   1220.090909   12.471864   70.181818   \n",
        "\\textbf{median}        1.000000   1623.000000   16.590432   84.000000   \n",
        "\\textbf{std}           0.522233    783.064806    8.004549   36.912920   \n",
        "\\textbf{minimum}       1.000000      1.000000    0.010222    1.000000   \n",
        "\\textbf{maximum}       2.000000   2078.000000   21.241477  100.000000   \n",
        "\\textbf{sum}          16.000000  13421.000000  137.190501  772.000000   \n",
        "\n",
        "                         Flops     True \\%    False \\%  \n",
        "oscillation_distance  1.000000   99.940156    0.059844  \n",
        "prune_plan            0.000000    0.000000  100.000000  \n",
        "shutdown_costmaps     0.000000  100.000000    0.000000  \n",
        "tf_broadcast          0.000000    0.000000  100.000000  \n",
        "update_min_d          2.000000   99.948079    0.051921  \n",
        "visualize_potential   0.000000  100.000000    0.000000  \n",
        "xy_goal_tolerance     0.000000  100.000000    0.000000  \n",
        "~brake_limit          4.000000   88.223140   11.776860  \n",
        "~cmd_vel_timeout      1.000000   44.834711   55.165289  \n",
        "~max_forward_speed    0.000000    0.000000  100.000000  \n",
        "~min_forward_speed    0.000000    0.000000  100.000000  \n",
        "\\textbf{mean}         0.727273   57.540553   42.459447  \n",
        "\\textbf{median}       0.000000   88.223140   11.776860  \n",
        "\\textbf{std}          1.272078   48.322934   48.322934  \n",
        "\\textbf{minimum}      0.000000    0.000000    0.000000  \n",
        "\\textbf{maximum}      4.000000  100.000000  100.000000  \n",
        "\\textbf{sum}          8.000000  632.946086  467.053914  "
       ]
      }
     ],
     "prompt_number": 24
    },
    {
     "cell_type": "code",
     "collapsed": false,
     "input": [
      "for i in thresh_df['key'].unique():\n",
      "    print i\n",
      "    print '\\t', info[i]['source']"
     ],
     "language": "python",
     "metadata": {},
     "outputs": [
      {
       "output_type": "stream",
       "stream": "stdout",
       "text": [
        "63cbfac6-9b16-4058-8ecd-4194d5455711\n",
        "\tupdate_min_d\n",
        "14f37139-5b2f-463b-b6d1-217184bd787f\n",
        "\tupdate_min_d\n",
        "bf02a03c-7197-48b6-ac62-31618544d157\n",
        "\ttf_broadcast\n",
        "/home/turtlebot/adam_ros/src/irobotctrl/bin/move_trans.py:86:0\n",
        "\t~cmd_vel_timeout\n",
        "/home/turtlebot/adam_ros/src/irobotctrl/bin/move_trans.py:93:1\n",
        "\t~brake_limit\n",
        "/home/turtlebot/adam_ros/src/irobotctrl/bin/move_trans.py:93:0\n",
        "\t~brake_limit\n",
        "185f453f-f37d-468a-8618-bba29096f18c\n",
        "\ttf_broadcast\n",
        "715e98b4-5706-49f9-ad89-8a5227c1b3a4\n",
        "\tshutdown_costmaps\n",
        "cdeaa92c-bed0-480f-8562-20788d5656b8\n",
        "\toscillation_distance\n",
        "fe558375-c414-4827-bbb9-da5272b16f89\n",
        "\tvisualize_potential\n",
        "c5f54d85-f80e-48dd-bea0-4ef00523ce12\n",
        "\tprune_plan\n",
        "294ff9dc-a455-44e4-a6f4-c8b483e41f32\n",
        "\txy_goal_tolerance\n",
        "/home/turtlebot/adam_ros/src/irobotctrl/bin/move_trans.py:66:0\n",
        "\t~max_forward_speed\n",
        "/home/turtlebot/adam_ros/src/irobotctrl/bin/move_trans.py:68:0\n",
        "\t~min_forward_speed\n",
        "/home/turtlebot/adam_ros/src/irobotctrl/bin/move_trans.py:70:0\n",
        "\t~max_forward_speed\n",
        "/home/turtlebot/adam_ros/src/irobotctrl/bin/move_trans.py:72:0\n",
        "\t~min_forward_speed\n"
       ]
      }
     ],
     "prompt_number": 28
    },
    {
     "cell_type": "code",
     "collapsed": false,
     "input": [
      "thresh_df[thresh_df['key'] == 'cdeaa92c-bed0-480f-8562-20788d5656b8']['thresh'].plot()\n",
      "thresh_df[thresh_df['key'] == 'cdeaa92c-bed0-480f-8562-20788d5656b8']['cmp'].plot()\n"
     ],
     "language": "python",
     "metadata": {},
     "outputs": [
      {
       "metadata": {},
       "output_type": "pyout",
       "prompt_number": 33,
       "text": [
        "<matplotlib.axes.AxesSubplot at 0x7f3a67404cd0>"
       ]
      },
      {
       "metadata": {},
       "output_type": "display_data",
       "png": "[encoded data removed]",
       "text": [
        "<matplotlib.figure.Figure at 0x7f3a6b8f3050>"
       ]
      }
     ],
     "prompt_number": 33
    },
    {
     "cell_type": "code",
     "collapsed": false,
     "input": [
      "thresh_df[thresh_df['key'] == '294ff9dc-a455-44e4-a6f4-c8b483e41f32']['thresh'].plot()\n",
      "thresh_df[thresh_df['key'] == '294ff9dc-a455-44e4-a6f4-c8b483e41f32']['cmp'].plot()\n",
      "xs = thresh_df[thresh_df['key'] == '294ff9dc-a455-44e4-a6f4-c8b483e41f32']\n",
      "xs = xs[xs['flop'] == True].index\n",
      "print xs\n"
     ],
     "language": "python",
     "metadata": {},
     "outputs": [
      {
       "output_type": "stream",
       "stream": "stdout",
       "text": [
        "<class 'pandas.tseries.index.DatetimeIndex'>\n",
        "Length: 0, Freq: None, Timezone: None\n"
       ]
      },
      {
       "metadata": {},
       "output_type": "display_data",
       "png": "[encoded data removed]",
       "text": [
        "<matplotlib.figure.Figure at 0x7f3a66ecead0>"
       ]
      }
     ],
     "prompt_number": 41
    },
    {
     "cell_type": "code",
     "collapsed": false,
     "input": [
      "thresh_df[thresh_df['key'] == '63cbfac6-9b16-4058-8ecd-4194d5455711']['thresh'].plot()\n",
      "thresh_df[thresh_df['key'] == '63cbfac6-9b16-4058-8ecd-4194d5455711']['cmp'].plot()"
     ],
     "language": "python",
     "metadata": {},
     "outputs": [
      {
       "metadata": {},
       "output_type": "pyout",
       "prompt_number": 43,
       "text": [
        "<matplotlib.axes.AxesSubplot at 0x7f3a66ce8250>"
       ]
      },
      {
       "metadata": {},
       "output_type": "display_data",
       "png": "[encoded data removed]",
       "text": [
        "<matplotlib.figure.Figure at 0x7f3a66d38b50>"
       ]
      }
     ],
     "prompt_number": 43
    },
    {
     "cell_type": "code",
     "collapsed": false,
     "input": [
      "thresh_df[thresh_df['key'] == '14f37139-5b2f-463b-b6d1-217184bd787f']['thresh'].plot(figsize=(10,10)\n",
      "thresh_df[thresh_df['key'] == '14f37139-5b2f-463b-b6d1-217184bd787f']['cmp'].plot()"
     ],
     "language": "python",
     "metadata": {},
     "outputs": [
      {
       "ename": "SyntaxError",
       "evalue": "invalid syntax (<ipython-input-45-85c7282f6c02>, line 2)",
       "output_type": "pyerr",
       "traceback": [
        "\u001b[0;36m  File \u001b[0;32m\"<ipython-input-45-85c7282f6c02>\"\u001b[0;36m, line \u001b[0;32m2\u001b[0m\n\u001b[0;31m    thresh_df[thresh_df['key'] == '14f37139-5b2f-463b-b6d1-217184bd787f']['cmp'].plot()\u001b[0m\n\u001b[0m            ^\u001b[0m\n\u001b[0;31mSyntaxError\u001b[0m\u001b[0;31m:\u001b[0m invalid syntax\n"
       ]
      }
     ],
     "prompt_number": 45
    },
    {
     "cell_type": "code",
     "collapsed": false,
     "input": [],
     "language": "python",
     "metadata": {},
     "outputs": []
    }
   ],
   "metadata": {}
  }
 ]
}
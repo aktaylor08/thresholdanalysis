{
 "worksheets": [
  {
   "cells": [
    {
     "cell_type": "code",
     "metadata": {},
     "outputs": [],
     "input": [
      "import rosbag_pandas as rbp\n",
      "import numpy as np\n",
      "import matplotlib.pyplot as plt"
     ],
     "language": "python",
     "prompt_number": 2
    },
    {
     "cell_type": "code",
     "metadata": {},
     "outputs": [],
     "input": [
      "%matplotlib inline"
     ],
     "language": "python",
     "prompt_number": 3
    },
    {
     "cell_type": "code",
     "metadata": {},
     "outputs": [
      {
       "output_type": "stream",
       "stream": "stderr",
       "text": [
        "/usr/local/lib/python2.7/dist-packages/rosbag_pandas.py:178: UserWarning: Could not find types for /vicon/markers skpping \n  'Could not find types for ' + topic + ' skpping ')\n"
       ]
      }
     ],
     "input": [
      "df = rbp.bag_to_dataframe('/home/ataylor/asctec_ws/src/collab_launch/mybags/_2015-01-29-12-44-31.bag')"
     ],
     "language": "python",
     "prompt_number": 4
    },
    {
     "cell_type": "code",
     "metadata": {},
     "outputs": [
      {
       "output_type": "pyout",
       "text": [
        "<matplotlib.axes.AxesSubplot at 0xcbc2250>"
       ],
       "metadata": {}
      },
      {
       "output_type": "display_data",
       "png": "[encoded data removed]",
       "text": [
        "<matplotlib.figure.Figure at 0x41528d0>"
       ],
       "metadata": {}
      }
     ],
     "input": [
      "df.a_subject_pose__translation_x.plot()"
     ],
     "language": "python",
     "prompt_number": 7
    },
    {
     "cell_type": "code",
     "metadata": {},
     "outputs": [],
     "input": [
      ""
     ],
     "language": "python"
    }
   ]
  }
 ],
 "cells": [],
 "metadata": {},
 "nbformat": 3,
 "nbformat_minor": 0
}
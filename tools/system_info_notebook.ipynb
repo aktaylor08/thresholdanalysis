{
 "worksheets": [
  {
   "cells": [
    {
     "cell_type": "code",
     "metadata": {},
     "outputs": [],
     "input": [
      "import pandas as pd\n",
      "import matplotlib.pyplot as plt"
     ],
     "language": "python",
     "prompt_number": 18
    },
    {
     "cell_type": "code",
     "metadata": {},
     "outputs": [],
     "input": [
      "matplotlib inline"
     ],
     "language": "python",
     "prompt_number": 19
    },
    {
     "cell_type": "code",
     "metadata": {},
     "outputs": [],
     "input": [
      "df = pd.read_csv('system_info.csv')"
     ],
     "language": "python",
     "prompt_number": 22
    },
    {
     "cell_type": "code",
     "metadata": {},
     "outputs": [],
     "input": [
      "df['Total Files'] = df['c++ Files'] + df['Headers'] + df['Python Files']"
     ],
     "language": "python",
     "prompt_number": 23
    },
    {
     "cell_type": "code",
     "metadata": {},
     "outputs": [],
     "input": [
      "df['Total LOC'] = df['c++ LOC'] + df['Header LOC'] + df['Python LOC']"
     ],
     "language": "python",
     "prompt_number": 24
    },
    {
     "cell_type": "code",
     "metadata": {},
     "outputs": [],
     "input": [
      "res = pd.read_csv('res_2.csv')"
     ],
     "language": "python",
     "prompt_number": 25
    },
    {
     "cell_type": "code",
     "metadata": {},
     "outputs": [],
     "input": [
      "combined = res.merge(df, how='inner', on='name')"
     ],
     "language": "python",
     "prompt_number": 27
    },
    {
     "cell_type": "code",
     "metadata": {},
     "outputs": [],
     "input": [
      "examined = df[df['Total LOC'] != 0]"
     ],
     "language": "python",
     "prompt_number": 33
    },
    {
     "cell_type": "code",
     "metadata": {},
     "outputs": [],
     "input": [
      "droped = df[df['Total LOC'] == 0]"
     ],
     "language": "python",
     "prompt_number": 39
    },
    {
     "cell_type": "code",
     "metadata": {},
     "outputs": [],
     "input": [
      "combined = res.merge(examined, how='inner', on='name')"
     ],
     "language": "python",
     "prompt_number": 41
    },
    {
     "cell_type": "code",
     "metadata": {},
     "outputs": [
      {
       "output_type": "pyout",
       "prompt_number": 44,
       "text": [
        "count    102.000000\n",
        "mean       7.833333\n",
        "std       18.539272\n",
        "min        0.000000\n",
        "25%        0.000000\n",
        "50%        0.000000\n",
        "75%        8.750000\n",
        "max      151.000000\n",
        "Name: threshold_comparisions, dtype: float64"
       ],
       "metadata": {}
      }
     ],
     "input": [
      "combined.threshold_comparisions.describe()"
     ],
     "language": "python",
     "prompt_number": 44
    },
    {
     "cell_type": "code",
     "metadata": {},
     "outputs": [],
     "input": [
      "combined.to_csv('combined.csv')"
     ],
     "language": "python",
     "prompt_number": 49
    },
    {
     "cell_type": "code",
     "metadata": {},
     "outputs": [
      {
       "output_type": "pyout",
       "prompt_number": 66,
       "text": [
        "count    102.000000\n",
        "mean       1.605445\n",
        "std        1.919469\n",
        "min        0.911936\n",
        "25%        0.999481\n",
        "50%        1.139552\n",
        "75%        1.547465\n",
        "max       18.783223\n",
        "dtype: float64"
       ],
       "metadata": {}
      }
     ],
     "input": [
      "a.describe()"
     ],
     "language": "python",
     "prompt_number": 66
    },
    {
     "cell_type": "code",
     "metadata": {},
     "outputs": [
      {
       "output_type": "pyout",
       "prompt_number": 59,
       "text": [
        "count    102.000000\n",
        "mean       7.833333\n",
        "std       18.539272\n",
        "min        0.000000\n",
        "25%        0.000000\n",
        "50%        0.000000\n",
        "75%        8.750000\n",
        "max      151.000000\n",
        "Name: threshold_comparisions, dtype: float64"
       ],
       "metadata": {}
      }
     ],
     "input": [
      "combined.threshold_comparisions.describe()"
     ],
     "language": "python",
     "prompt_number": 59
    },
    {
     "cell_type": "code",
     "metadata": {},
     "outputs": [],
     "input": [
      "only_thresh = combined[combined.threshold_comparisions != 0]"
     ],
     "language": "python",
     "prompt_number": 64
    },
    {
     "cell_type": "code",
     "metadata": {},
     "outputs": [
      {
       "output_type": "pyout",
       "prompt_number": 65,
       "text": [
        "count     49.000000\n",
        "mean      16.306122\n",
        "std       24.128306\n",
        "min        1.000000\n",
        "25%        3.000000\n",
        "50%        9.000000\n",
        "75%       18.000000\n",
        "max      151.000000\n",
        "Name: threshold_comparisions, dtype: float64"
       ],
       "metadata": {}
      }
     ],
     "input": [
      "only_thresh.threshold_comparisions.describe()"
     ],
     "language": "python",
     "prompt_number": 65
    },
    {
     "cell_type": "code",
     "metadata": {},
     "outputs": [
      {
       "output_type": "pyout",
       "prompt_number": 75,
       "text": [
        "<matplotlib.axes.AxesSubplot at 0x7f0a42284ad0>"
       ],
       "metadata": {}
      },
      {
       "output_type": "display_data",
       "png": "[encoded data removed]",
       "text": [
        "<matplotlib.figure.Figure at 0x7f0a42c21550>"
       ],
       "metadata": {}
      }
     ],
     "input": [
      "only_thresh.threshold_comparisions.hist(bins=20\n",
      "                                        )"
     ],
     "language": "python",
     "prompt_number": 75
    },
    {
     "cell_type": "code",
     "metadata": {},
     "outputs": [],
     "input": [
      ""
     ],
     "language": "python"
    }
   ]
  }
 ],
 "cells": [],
 "metadata": {
  "name": ""
 },
 "nbformat": 3,
 "nbformat_minor": 0
}
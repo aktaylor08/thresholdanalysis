{
 "metadata": {
  "name": ""
 },
 "nbformat": 3,
 "nbformat_minor": 0,
 "worksheets": [
  {
   "cells": [
    {
     "cell_type": "code",
     "collapsed": false,
     "input": [
      "import pandas as pd\n",
      "import matplotlib.pyplot as plt"
     ],
     "language": "python",
     "metadata": {},
     "outputs": [],
     "prompt_number": 1
    },
    {
     "cell_type": "code",
     "collapsed": false,
     "input": [
      "matplotlib inline"
     ],
     "language": "python",
     "metadata": {},
     "outputs": [],
     "prompt_number": 2
    },
    {
     "cell_type": "code",
     "collapsed": false,
     "input": [
      "df = pd.read_csv('system_info.csv')"
     ],
     "language": "python",
     "metadata": {},
     "outputs": [],
     "prompt_number": 5
    },
    {
     "cell_type": "code",
     "collapsed": false,
     "input": [
      "df['Total Files'] = df['c++ Files'] + df['Headers'] + df['Python Files']"
     ],
     "language": "python",
     "metadata": {},
     "outputs": [],
     "prompt_number": 12
    },
    {
     "cell_type": "code",
     "collapsed": false,
     "input": [
      "df['Total LOC'] = df['c++ LOC'] + df['Header LOC'] + df['Python LOC']\n"
     ],
     "language": "python",
     "metadata": {},
     "outputs": [],
     "prompt_number": 11
    },
    {
     "cell_type": "code",
     "collapsed": false,
     "input": [
      "df['Total LOC'].plot()\n"
     ],
     "language": "python",
     "metadata": {},
     "outputs": [
      {
       "metadata": {},
       "output_type": "pyout",
       "prompt_number": 14,
       "text": [
        "<matplotlib.axes.AxesSubplot at 0x7f557269c810>"
       ]
      },
      {
       "metadata": {},
       "output_type": "display_data",
       "png": "[encoded data removed]",
       "text": [
        "<matplotlib.figure.Figure at 0x7f5572aed350>"
       ]
      }
     ],
     "prompt_number": 14
    },
    {
     "cell_type": "code",
     "collapsed": false,
     "input": [
      "df['Total LOC'].describe()"
     ],
     "language": "python",
     "metadata": {},
     "outputs": [
      {
       "metadata": {},
       "output_type": "pyout",
       "prompt_number": 15,
       "text": [
        "count       142.000000\n",
        "mean       7708.732394\n",
        "std       21802.254788\n",
        "min           0.000000\n",
        "25%         315.000000\n",
        "50%        2391.500000\n",
        "75%        5907.750000\n",
        "max      224018.000000\n",
        "Name: Total LOC, dtype: float64"
       ]
      }
     ],
     "prompt_number": 15
    },
    {
     "cell_type": "code",
     "collapsed": false,
     "input": [
      "df[df['Total LOC'] == 224018]\n"
     ],
     "language": "python",
     "metadata": {},
     "outputs": [
      {
       "html": [
        "<div style=\"max-height:1000px;max-width:1500px;overflow:auto;\">\n",
        "<table border=\"1\" class=\"dataframe\">\n",
        "  <thead>\n",
        "    <tr style=\"text-align: right;\">\n",
        "      <th></th>\n",
        "      <th>name</th>\n",
        "      <th>c++ Files</th>\n",
        "      <th>c++ LOC</th>\n",
        "      <th>Headers</th>\n",
        "      <th>Header LOC</th>\n",
        "      <th>Python Files</th>\n",
        "      <th>Python LOC</th>\n",
        "      <th>total_files</th>\n",
        "      <th>Total LOC</th>\n",
        "      <th>Total Files</th>\n",
        "    </tr>\n",
        "  </thead>\n",
        "  <tbody>\n",
        "    <tr>\n",
        "      <th>61</th>\n",
        "      <td>jsk_recognition</td>\n",
        "      <td>3</td>\n",
        "      <td>167</td>\n",
        "      <td>17</td>\n",
        "      <td>223277</td>\n",
        "      <td>9</td>\n",
        "      <td>574</td>\n",
        "      <td>29</td>\n",
        "      <td>224018</td>\n",
        "      <td>29</td>\n",
        "    </tr>\n",
        "  </tbody>\n",
        "</table>\n",
        "</div>"
       ],
       "metadata": {},
       "output_type": "pyout",
       "prompt_number": 16,
       "text": [
        "               name  c++ Files  c++ LOC  Headers  Header LOC  Python Files  \\\n",
        "61  jsk_recognition          3      167       17      223277             9   \n",
        "\n",
        "    Python LOC  total_files  Total LOC  Total Files  \n",
        "61         574           29     224018           29  "
       ]
      }
     ],
     "prompt_number": 16
    },
    {
     "cell_type": "code",
     "collapsed": false,
     "input": [
      "df['Total LOC'].median()"
     ],
     "language": "python",
     "metadata": {},
     "outputs": [
      {
       "metadata": {},
       "output_type": "pyout",
       "prompt_number": 19,
       "text": [
        "2391.5"
       ]
      }
     ],
     "prompt_number": 19
    },
    {
     "cell_type": "code",
     "collapsed": false,
     "input": [
      "res_df"
     ],
     "language": "python",
     "metadata": {},
     "outputs": [
      {
       "html": [
        "<div style=\"max-height:1000px;max-width:1500px;overflow:auto;\">\n",
        "<table border=\"1\" class=\"dataframe\">\n",
        "  <thead>\n",
        "    <tr style=\"text-align: right;\">\n",
        "      <th></th>\n",
        "      <th>pass unit tests</th>\n",
        "      <th>21.651065</th>\n",
        "      <th>30.376638</th>\n",
        "      <th>11</th>\n",
        "      <th>11.1</th>\n",
        "      <th>0</th>\n",
        "      <th>11.2</th>\n",
        "      <th>11.3</th>\n",
        "      <th>11.4</th>\n",
        "      <th>9</th>\n",
        "    </tr>\n",
        "  </thead>\n",
        "  <tbody>\n",
        "    <tr>\n",
        "      <th>0</th>\n",
        "      <td>asctec base</td>\n",
        "      <td>189.195246</td>\n",
        "      <td>250.985432</td>\n",
        "      <td>57</td>\n",
        "      <td>35</td>\n",
        "      <td>22</td>\n",
        "      <td>46</td>\n",
        "      <td>49</td>\n",
        "      <td>38</td>\n",
        "      <td>12</td>\n",
        "    </tr>\n",
        "    <tr>\n",
        "      <th>1</th>\n",
        "      <td>water sampler</td>\n",
        "      <td>24.941281</td>\n",
        "      <td>29.612925</td>\n",
        "      <td>30</td>\n",
        "      <td>0</td>\n",
        "      <td>30</td>\n",
        "      <td>28</td>\n",
        "      <td>9</td>\n",
        "      <td>9</td>\n",
        "      <td>7</td>\n",
        "    </tr>\n",
        "    <tr>\n",
        "      <th>2</th>\n",
        "      <td>crop surveying</td>\n",
        "      <td>131.335392</td>\n",
        "      <td>208.027918</td>\n",
        "      <td>3</td>\n",
        "      <td>3</td>\n",
        "      <td>0</td>\n",
        "      <td>3</td>\n",
        "      <td>3</td>\n",
        "      <td>3</td>\n",
        "      <td>3</td>\n",
        "    </tr>\n",
        "    <tr>\n",
        "      <th>3</th>\n",
        "      <td>cob external</td>\n",
        "      <td>20.857220</td>\n",
        "      <td>23.236865</td>\n",
        "      <td>0</td>\n",
        "      <td>0</td>\n",
        "      <td>0</td>\n",
        "      <td>0</td>\n",
        "      <td>0</td>\n",
        "      <td>0</td>\n",
        "      <td>0</td>\n",
        "    </tr>\n",
        "    <tr>\n",
        "      <th>4</th>\n",
        "      <td>cob common</td>\n",
        "      <td>34.086843</td>\n",
        "      <td>25.875169</td>\n",
        "      <td>0</td>\n",
        "      <td>0</td>\n",
        "      <td>0</td>\n",
        "      <td>0</td>\n",
        "      <td>0</td>\n",
        "      <td>0</td>\n",
        "      <td>0</td>\n",
        "    </tr>\n",
        "    <tr>\n",
        "      <th>5</th>\n",
        "      <td>shcunk modular</td>\n",
        "      <td>fail</td>\n",
        "      <td>NaN</td>\n",
        "      <td>NaN</td>\n",
        "      <td>NaN</td>\n",
        "      <td>NaN</td>\n",
        "      <td>NaN</td>\n",
        "      <td>NaN</td>\n",
        "      <td>NaN</td>\n",
        "      <td>NaN</td>\n",
        "    </tr>\n",
        "  </tbody>\n",
        "</table>\n",
        "</div>"
       ],
       "metadata": {},
       "output_type": "pyout",
       "prompt_number": 18,
       "text": [
        "  pass unit tests   21.651065   30.376638  11  11.1   0  11.2  11.3  11.4   9\n",
        "0     asctec base  189.195246  250.985432  57    35  22    46    49    38  12\n",
        "1   water sampler   24.941281   29.612925  30     0  30    28     9     9   7\n",
        "2  crop surveying  131.335392  208.027918   3     3   0     3     3     3   3\n",
        "3    cob external   20.857220   23.236865   0     0   0     0     0     0   0\n",
        "4      cob common   34.086843   25.875169   0     0   0     0     0     0   0\n",
        "5  shcunk modular        fail         NaN NaN   NaN NaN   NaN   NaN   NaN NaN"
       ]
      }
     ],
     "prompt_number": 18
    },
    {
     "cell_type": "code",
     "collapsed": false,
     "input": [],
     "language": "python",
     "metadata": {},
     "outputs": []
    }
   ],
   "metadata": {}
  }
 ]
}
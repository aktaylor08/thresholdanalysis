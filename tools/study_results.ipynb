{
 "metadata": {
  "name": "",
  "signature": "sha256:dc66d59cb9b65bc7a7c0b69b95c4ae22a1d186a707f53bcca233299b7deebc58"
 },
 "nbformat": 3,
 "nbformat_minor": 0,
 "worksheets": [
  {
   "cells": [
    {
     "cell_type": "code",
     "collapsed": false,
     "input": [
      "import pandas as pd\n",
      "import matplotlib.pyplot as plt"
     ],
     "language": "python",
     "metadata": {},
     "outputs": [],
     "prompt_number": 1
    },
    {
     "cell_type": "code",
     "collapsed": false,
     "input": [
      "%matplotlib inline"
     ],
     "language": "python",
     "metadata": {},
     "outputs": [],
     "prompt_number": 3
    },
    {
     "cell_type": "code",
     "collapsed": false,
     "input": [
      "code_info = pd.read_csv('system_info.csv')"
     ],
     "language": "python",
     "metadata": {},
     "outputs": [],
     "prompt_number": 4
    },
    {
     "cell_type": "code",
     "collapsed": false,
     "input": [
      "code_info['Total Files'] = code_info['c++ Files'] + code_info['Headers'] + code_info['Python Files']"
     ],
     "language": "python",
     "metadata": {},
     "outputs": [],
     "prompt_number": 5
    },
    {
     "cell_type": "code",
     "collapsed": false,
     "input": [
      "code_info['Total LOC'] = code_info['c++ LOC'] + code_info['Header LOC'] + code_info['Python LOC']\n"
     ],
     "language": "python",
     "metadata": {},
     "outputs": [],
     "prompt_number": 6
    },
    {
     "cell_type": "code",
     "collapsed": false,
     "input": [
      "results = pd.read_csv('first_results.csv')"
     ],
     "language": "python",
     "metadata": {},
     "outputs": [],
     "prompt_number": 18
    },
    {
     "cell_type": "code",
     "collapsed": false,
     "input": [
      "results.threshold_comparisions.describe()"
     ],
     "language": "python",
     "metadata": {},
     "outputs": [
      {
       "metadata": {},
       "output_type": "pyout",
       "prompt_number": 19,
       "text": [
        "count    101.000000\n",
        "mean       7.396040\n",
        "std       18.662304\n",
        "min        0.000000\n",
        "25%        0.000000\n",
        "50%        0.000000\n",
        "75%        7.000000\n",
        "max      151.000000\n",
        "Name: threshold_comparisions, dtype: float64"
       ]
      }
     ],
     "prompt_number": 19
    },
    {
     "cell_type": "code",
     "collapsed": false,
     "input": [
      "results.threshold_comparisions.sum()"
     ],
     "language": "python",
     "metadata": {},
     "outputs": [
      {
       "metadata": {},
       "output_type": "pyout",
       "prompt_number": 20,
       "text": [
        "747"
       ]
      }
     ],
     "prompt_number": 20
    },
    {
     "cell_type": "code",
     "collapsed": false,
     "input": [
      "more_than_one = results[results.threshold_comparisions != 0]"
     ],
     "language": "python",
     "metadata": {},
     "outputs": [],
     "prompt_number": 22
    },
    {
     "cell_type": "code",
     "collapsed": false,
     "input": [
      "len(more_than_one)"
     ],
     "language": "python",
     "metadata": {},
     "outputs": [
      {
       "metadata": {},
       "output_type": "pyout",
       "prompt_number": 24,
       "text": [
        "43"
       ]
      }
     ],
     "prompt_number": 24
    },
    {
     "cell_type": "code",
     "collapsed": false,
     "input": [
      "more_than_one.describe()"
     ],
     "language": "python",
     "metadata": {},
     "outputs": [
      {
       "html": [
        "<div style=\"max-height:1000px;max-width:1500px;overflow:auto;\">\n",
        "<table border=\"1\" class=\"dataframe\">\n",
        "  <thead>\n",
        "    <tr style=\"text-align: right;\">\n",
        "      <th></th>\n",
        "      <th>clean_time</th>\n",
        "      <th>additional_time</th>\n",
        "      <th>threshold_comparisions</th>\n",
        "      <th>cpp</th>\n",
        "      <th>python</th>\n",
        "      <th>unique</th>\n",
        "      <th>param</th>\n",
        "      <th>unique_param</th>\n",
        "      <th>files</th>\n",
        "    </tr>\n",
        "  </thead>\n",
        "  <tbody>\n",
        "    <tr>\n",
        "      <th>count</th>\n",
        "      <td>43.000000</td>\n",
        "      <td>43.000000</td>\n",
        "      <td>43.000000</td>\n",
        "      <td>43.000000</td>\n",
        "      <td>43.000000</td>\n",
        "      <td>43.000000</td>\n",
        "      <td>43.000000</td>\n",
        "      <td>43.000000</td>\n",
        "      <td>43.000000</td>\n",
        "    </tr>\n",
        "    <tr>\n",
        "      <th>mean</th>\n",
        "      <td>52.625908</td>\n",
        "      <td>97.975313</td>\n",
        "      <td>17.372093</td>\n",
        "      <td>9.325581</td>\n",
        "      <td>7.627907</td>\n",
        "      <td>10.325581</td>\n",
        "      <td>11.395349</td>\n",
        "      <td>5.860465</td>\n",
        "      <td>3.162791</td>\n",
        "    </tr>\n",
        "    <tr>\n",
        "      <th>std</th>\n",
        "      <td>54.667055</td>\n",
        "      <td>131.320701</td>\n",
        "      <td>25.530582</td>\n",
        "      <td>23.251954</td>\n",
        "      <td>12.755994</td>\n",
        "      <td>11.003724</td>\n",
        "      <td>23.401404</td>\n",
        "      <td>8.390986</td>\n",
        "      <td>2.852987</td>\n",
        "    </tr>\n",
        "    <tr>\n",
        "      <th>min</th>\n",
        "      <td>0.611571</td>\n",
        "      <td>0.616489</td>\n",
        "      <td>1.000000</td>\n",
        "      <td>0.000000</td>\n",
        "      <td>0.000000</td>\n",
        "      <td>1.000000</td>\n",
        "      <td>0.000000</td>\n",
        "      <td>0.000000</td>\n",
        "      <td>1.000000</td>\n",
        "    </tr>\n",
        "    <tr>\n",
        "      <th>25%</th>\n",
        "      <td>17.451406</td>\n",
        "      <td>18.182806</td>\n",
        "      <td>3.000000</td>\n",
        "      <td>0.000000</td>\n",
        "      <td>0.000000</td>\n",
        "      <td>2.000000</td>\n",
        "      <td>0.000000</td>\n",
        "      <td>0.000000</td>\n",
        "      <td>1.000000</td>\n",
        "    </tr>\n",
        "    <tr>\n",
        "      <th>50%</th>\n",
        "      <td>31.684651</td>\n",
        "      <td>60.108064</td>\n",
        "      <td>10.000000</td>\n",
        "      <td>0.000000</td>\n",
        "      <td>1.000000</td>\n",
        "      <td>6.000000</td>\n",
        "      <td>3.000000</td>\n",
        "      <td>3.000000</td>\n",
        "      <td>2.000000</td>\n",
        "    </tr>\n",
        "    <tr>\n",
        "      <th>75%</th>\n",
        "      <td>63.635692</td>\n",
        "      <td>119.166290</td>\n",
        "      <td>21.500000</td>\n",
        "      <td>10.000000</td>\n",
        "      <td>9.000000</td>\n",
        "      <td>13.500000</td>\n",
        "      <td>13.500000</td>\n",
        "      <td>8.500000</td>\n",
        "      <td>3.500000</td>\n",
        "    </tr>\n",
        "    <tr>\n",
        "      <th>max</th>\n",
        "      <td>253.230090</td>\n",
        "      <td>641.368447</td>\n",
        "      <td>151.000000</td>\n",
        "      <td>142.000000</td>\n",
        "      <td>53.000000</td>\n",
        "      <td>46.000000</td>\n",
        "      <td>142.000000</td>\n",
        "      <td>38.000000</td>\n",
        "      <td>12.000000</td>\n",
        "    </tr>\n",
        "  </tbody>\n",
        "</table>\n",
        "</div>"
       ],
       "metadata": {},
       "output_type": "pyout",
       "prompt_number": 25,
       "text": [
        "       clean_time  additional_time  threshold_comparisions         cpp  \\\n",
        "count   43.000000        43.000000               43.000000   43.000000   \n",
        "mean    52.625908        97.975313               17.372093    9.325581   \n",
        "std     54.667055       131.320701               25.530582   23.251954   \n",
        "min      0.611571         0.616489                1.000000    0.000000   \n",
        "25%     17.451406        18.182806                3.000000    0.000000   \n",
        "50%     31.684651        60.108064               10.000000    0.000000   \n",
        "75%     63.635692       119.166290               21.500000   10.000000   \n",
        "max    253.230090       641.368447              151.000000  142.000000   \n",
        "\n",
        "          python     unique       param  unique_param      files  \n",
        "count  43.000000  43.000000   43.000000     43.000000  43.000000  \n",
        "mean    7.627907  10.325581   11.395349      5.860465   3.162791  \n",
        "std    12.755994  11.003724   23.401404      8.390986   2.852987  \n",
        "min     0.000000   1.000000    0.000000      0.000000   1.000000  \n",
        "25%     0.000000   2.000000    0.000000      0.000000   1.000000  \n",
        "50%     1.000000   6.000000    3.000000      3.000000   2.000000  \n",
        "75%     9.000000  13.500000   13.500000      8.500000   3.500000  \n",
        "max    53.000000  46.000000  142.000000     38.000000  12.000000  "
       ]
      }
     ],
     "prompt_number": 25
    },
    {
     "cell_type": "code",
     "collapsed": false,
     "input": [
      "more_than_one.threshold_comparisions.value_counts()"
     ],
     "language": "python",
     "metadata": {},
     "outputs": [
      {
       "metadata": {},
       "output_type": "pyout",
       "prompt_number": 29,
       "text": [
        "1      7\n",
        "3      5\n",
        "13     2\n",
        "2      2\n",
        "6      2\n",
        "7      2\n",
        "10     2\n",
        "15     2\n",
        "38     2\n",
        "24     1\n",
        "151    1\n",
        "46     1\n",
        "4      1\n",
        "32     1\n",
        "30     1\n",
        "8      1\n",
        "9      1\n",
        "27     1\n",
        "11     1\n",
        "12     1\n",
        "26     1\n",
        "53     1\n",
        "16     1\n",
        "18     1\n",
        "19     1\n",
        "57     1\n",
        "dtype: int64"
       ]
      }
     ],
     "prompt_number": 29
    },
    {
     "cell_type": "code",
     "collapsed": false,
     "input": [],
     "language": "python",
     "metadata": {},
     "outputs": []
    }
   ],
   "metadata": {}
  }
 ]
}